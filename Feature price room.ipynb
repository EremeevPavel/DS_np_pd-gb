{
 "cells": [
  {
   "cell_type": "markdown",
   "id": "370338a1",
   "metadata": {},
   "source": [
    "### Подключение библиотек "
   ]
  },
  {
   "cell_type": "code",
   "execution_count": 1,
   "id": "1388dc82",
   "metadata": {},
   "outputs": [],
   "source": [
    "import numpy as np\n",
    "import pandas as pd\n",
    "import random\n",
    "\n",
    "from sklearn.model_selection import train_test_split, cross_val_score, GridSearchCV\n",
    "from sklearn.preprocessing import StandardScaler\n",
    "from sklearn.ensemble import RandomForestRegressor\n",
    "from sklearn.metrics import r2_score as r2\n",
    "from sklearn.model_selection import KFold, GridSearchCV\n",
    "\n",
    "\n",
    "import matplotlib\n",
    "import matplotlib.pyplot as plt \n",
    "import seaborn as sns\n",
    "%matplotlib inline"
   ]
  },
  {
   "cell_type": "code",
   "execution_count": 2,
   "id": "fedc8508",
   "metadata": {},
   "outputs": [],
   "source": [
    "import warnings\n",
    "warnings.filterwarnings('ignore')"
   ]
  },
  {
   "cell_type": "code",
   "execution_count": 3,
   "id": "19f34d5a",
   "metadata": {},
   "outputs": [],
   "source": [
    "matplotlib.rcParams.update({'font.size': 14})"
   ]
  },
  {
   "cell_type": "code",
   "execution_count": 4,
   "id": "f181c77c",
   "metadata": {},
   "outputs": [],
   "source": [
    "def evaluate_preds(train_true_values, train_pred_values, test_true_values, test_pred_values):\n",
    "    print(\"Train R2:\\t\" + str(round(r2(train_true_values, train_pred_values), 3)))\n",
    "    print(\"Test R2:\\t\" + str(round(r2(test_true_values, test_pred_values), 3)))\n",
    "    \n",
    "    plt.figure(figsize=(18,10))\n",
    "    \n",
    "    plt.subplot(121)\n",
    "    sns.scatterplot(x=train_pred_values, y=train_true_values)\n",
    "    plt.xlabel('Predicted values')\n",
    "    plt.ylabel('True values')\n",
    "    plt.title('Train sample prediction')\n",
    "    \n",
    "    plt.subplot(122)\n",
    "    sns.scatterplot(x=test_pred_values, y=test_true_values)\n",
    "    plt.xlabel('Predicted values')\n",
    "    plt.ylabel('True values')\n",
    "    plt.title('Test sample prediction')\n",
    "\n",
    "    plt.show()"
   ]
  },
  {
   "cell_type": "code",
   "execution_count": null,
   "id": "f56f6d40",
   "metadata": {},
   "outputs": [],
   "source": []
  },
  {
   "cell_type": "code",
   "execution_count": null,
   "id": "7149e168",
   "metadata": {},
   "outputs": [],
   "source": []
  },
  {
   "cell_type": "markdown",
   "id": "e52c11b8",
   "metadata": {},
   "source": [
    "### Загрузка данных"
   ]
  },
  {
   "cell_type": "code",
   "execution_count": 5,
   "id": "ce09768a",
   "metadata": {},
   "outputs": [],
   "source": [
    "data_test = pd.read_csv('test.csv', index_col=0)\n",
    "data_train = pd.read_csv('train.csv', index_col=0)"
   ]
  },
  {
   "cell_type": "markdown",
   "id": "016ae258",
   "metadata": {},
   "source": [
    "### Проверка загруженых данных"
   ]
  },
  {
   "cell_type": "code",
   "execution_count": 6,
   "id": "12d56ef1",
   "metadata": {},
   "outputs": [
    {
     "data": {
      "text/plain": [
       "(10000, 19)"
      ]
     },
     "execution_count": 6,
     "metadata": {},
     "output_type": "execute_result"
    }
   ],
   "source": [
    "data_train.shape"
   ]
  },
  {
   "cell_type": "code",
   "execution_count": 7,
   "id": "e74d7bad",
   "metadata": {},
   "outputs": [
    {
     "data": {
      "text/plain": [
       "(5000, 18)"
      ]
     },
     "execution_count": 7,
     "metadata": {},
     "output_type": "execute_result"
    }
   ],
   "source": [
    "data_test.shape"
   ]
  },
  {
   "cell_type": "code",
   "execution_count": 8,
   "id": "a28681a3",
   "metadata": {},
   "outputs": [
    {
     "data": {
      "text/html": [
       "<div>\n",
       "<style scoped>\n",
       "    .dataframe tbody tr th:only-of-type {\n",
       "        vertical-align: middle;\n",
       "    }\n",
       "\n",
       "    .dataframe tbody tr th {\n",
       "        vertical-align: top;\n",
       "    }\n",
       "\n",
       "    .dataframe thead th {\n",
       "        text-align: right;\n",
       "    }\n",
       "</style>\n",
       "<table border=\"1\" class=\"dataframe\">\n",
       "  <thead>\n",
       "    <tr style=\"text-align: right;\">\n",
       "      <th></th>\n",
       "      <th>DistrictId</th>\n",
       "      <th>Rooms</th>\n",
       "      <th>Square</th>\n",
       "      <th>LifeSquare</th>\n",
       "      <th>KitchenSquare</th>\n",
       "      <th>Floor</th>\n",
       "      <th>HouseFloor</th>\n",
       "      <th>HouseYear</th>\n",
       "      <th>Ecology_1</th>\n",
       "      <th>Ecology_2</th>\n",
       "      <th>Ecology_3</th>\n",
       "      <th>Social_1</th>\n",
       "      <th>Social_2</th>\n",
       "      <th>Social_3</th>\n",
       "      <th>Healthcare_1</th>\n",
       "      <th>Helthcare_2</th>\n",
       "      <th>Shops_1</th>\n",
       "      <th>Shops_2</th>\n",
       "      <th>Price</th>\n",
       "    </tr>\n",
       "    <tr>\n",
       "      <th>Id</th>\n",
       "      <th></th>\n",
       "      <th></th>\n",
       "      <th></th>\n",
       "      <th></th>\n",
       "      <th></th>\n",
       "      <th></th>\n",
       "      <th></th>\n",
       "      <th></th>\n",
       "      <th></th>\n",
       "      <th></th>\n",
       "      <th></th>\n",
       "      <th></th>\n",
       "      <th></th>\n",
       "      <th></th>\n",
       "      <th></th>\n",
       "      <th></th>\n",
       "      <th></th>\n",
       "      <th></th>\n",
       "      <th></th>\n",
       "    </tr>\n",
       "  </thead>\n",
       "  <tbody>\n",
       "    <tr>\n",
       "      <th>11809</th>\n",
       "      <td>27</td>\n",
       "      <td>3.0</td>\n",
       "      <td>115.027311</td>\n",
       "      <td>NaN</td>\n",
       "      <td>10.0</td>\n",
       "      <td>4</td>\n",
       "      <td>10.0</td>\n",
       "      <td>2014</td>\n",
       "      <td>0.075424</td>\n",
       "      <td>B</td>\n",
       "      <td>B</td>\n",
       "      <td>11</td>\n",
       "      <td>3097</td>\n",
       "      <td>0</td>\n",
       "      <td>NaN</td>\n",
       "      <td>0</td>\n",
       "      <td>0</td>\n",
       "      <td>B</td>\n",
       "      <td>305018.871089</td>\n",
       "    </tr>\n",
       "    <tr>\n",
       "      <th>3013</th>\n",
       "      <td>22</td>\n",
       "      <td>1.0</td>\n",
       "      <td>39.832524</td>\n",
       "      <td>23.169223</td>\n",
       "      <td>8.0</td>\n",
       "      <td>7</td>\n",
       "      <td>8.0</td>\n",
       "      <td>1966</td>\n",
       "      <td>0.118537</td>\n",
       "      <td>B</td>\n",
       "      <td>B</td>\n",
       "      <td>30</td>\n",
       "      <td>6207</td>\n",
       "      <td>1</td>\n",
       "      <td>1183.0</td>\n",
       "      <td>1</td>\n",
       "      <td>0</td>\n",
       "      <td>B</td>\n",
       "      <td>177734.553407</td>\n",
       "    </tr>\n",
       "    <tr>\n",
       "      <th>8215</th>\n",
       "      <td>1</td>\n",
       "      <td>3.0</td>\n",
       "      <td>78.342215</td>\n",
       "      <td>47.671972</td>\n",
       "      <td>10.0</td>\n",
       "      <td>2</td>\n",
       "      <td>17.0</td>\n",
       "      <td>1988</td>\n",
       "      <td>0.025609</td>\n",
       "      <td>B</td>\n",
       "      <td>B</td>\n",
       "      <td>33</td>\n",
       "      <td>5261</td>\n",
       "      <td>0</td>\n",
       "      <td>240.0</td>\n",
       "      <td>3</td>\n",
       "      <td>1</td>\n",
       "      <td>B</td>\n",
       "      <td>282078.720850</td>\n",
       "    </tr>\n",
       "    <tr>\n",
       "      <th>2352</th>\n",
       "      <td>1</td>\n",
       "      <td>1.0</td>\n",
       "      <td>40.409907</td>\n",
       "      <td>NaN</td>\n",
       "      <td>1.0</td>\n",
       "      <td>10</td>\n",
       "      <td>22.0</td>\n",
       "      <td>1977</td>\n",
       "      <td>0.007122</td>\n",
       "      <td>B</td>\n",
       "      <td>B</td>\n",
       "      <td>1</td>\n",
       "      <td>264</td>\n",
       "      <td>0</td>\n",
       "      <td>NaN</td>\n",
       "      <td>0</td>\n",
       "      <td>1</td>\n",
       "      <td>B</td>\n",
       "      <td>168106.007630</td>\n",
       "    </tr>\n",
       "    <tr>\n",
       "      <th>13866</th>\n",
       "      <td>94</td>\n",
       "      <td>2.0</td>\n",
       "      <td>64.285067</td>\n",
       "      <td>38.562517</td>\n",
       "      <td>9.0</td>\n",
       "      <td>16</td>\n",
       "      <td>16.0</td>\n",
       "      <td>1972</td>\n",
       "      <td>0.282798</td>\n",
       "      <td>B</td>\n",
       "      <td>B</td>\n",
       "      <td>33</td>\n",
       "      <td>8667</td>\n",
       "      <td>2</td>\n",
       "      <td>NaN</td>\n",
       "      <td>0</td>\n",
       "      <td>6</td>\n",
       "      <td>B</td>\n",
       "      <td>343995.102962</td>\n",
       "    </tr>\n",
       "  </tbody>\n",
       "</table>\n",
       "</div>"
      ],
      "text/plain": [
       "       DistrictId  Rooms      Square  LifeSquare  KitchenSquare  Floor  \\\n",
       "Id                                                                       \n",
       "11809          27    3.0  115.027311         NaN           10.0      4   \n",
       "3013           22    1.0   39.832524   23.169223            8.0      7   \n",
       "8215            1    3.0   78.342215   47.671972           10.0      2   \n",
       "2352            1    1.0   40.409907         NaN            1.0     10   \n",
       "13866          94    2.0   64.285067   38.562517            9.0     16   \n",
       "\n",
       "       HouseFloor  HouseYear  Ecology_1 Ecology_2 Ecology_3  Social_1  \\\n",
       "Id                                                                      \n",
       "11809        10.0       2014   0.075424         B         B        11   \n",
       "3013          8.0       1966   0.118537         B         B        30   \n",
       "8215         17.0       1988   0.025609         B         B        33   \n",
       "2352         22.0       1977   0.007122         B         B         1   \n",
       "13866        16.0       1972   0.282798         B         B        33   \n",
       "\n",
       "       Social_2  Social_3  Healthcare_1  Helthcare_2  Shops_1 Shops_2  \\\n",
       "Id                                                                      \n",
       "11809      3097         0           NaN            0        0       B   \n",
       "3013       6207         1        1183.0            1        0       B   \n",
       "8215       5261         0         240.0            3        1       B   \n",
       "2352        264         0           NaN            0        1       B   \n",
       "13866      8667         2           NaN            0        6       B   \n",
       "\n",
       "               Price  \n",
       "Id                    \n",
       "11809  305018.871089  \n",
       "3013   177734.553407  \n",
       "8215   282078.720850  \n",
       "2352   168106.007630  \n",
       "13866  343995.102962  "
      ]
     },
     "execution_count": 8,
     "metadata": {},
     "output_type": "execute_result"
    }
   ],
   "source": [
    "data_train.head()"
   ]
  },
  {
   "cell_type": "code",
   "execution_count": 9,
   "id": "83c037c8",
   "metadata": {},
   "outputs": [
    {
     "data": {
      "text/html": [
       "<div>\n",
       "<style scoped>\n",
       "    .dataframe tbody tr th:only-of-type {\n",
       "        vertical-align: middle;\n",
       "    }\n",
       "\n",
       "    .dataframe tbody tr th {\n",
       "        vertical-align: top;\n",
       "    }\n",
       "\n",
       "    .dataframe thead th {\n",
       "        text-align: right;\n",
       "    }\n",
       "</style>\n",
       "<table border=\"1\" class=\"dataframe\">\n",
       "  <thead>\n",
       "    <tr style=\"text-align: right;\">\n",
       "      <th></th>\n",
       "      <th>DistrictId</th>\n",
       "      <th>Rooms</th>\n",
       "      <th>Square</th>\n",
       "      <th>LifeSquare</th>\n",
       "      <th>KitchenSquare</th>\n",
       "      <th>Floor</th>\n",
       "      <th>HouseFloor</th>\n",
       "      <th>HouseYear</th>\n",
       "      <th>Ecology_1</th>\n",
       "      <th>Ecology_2</th>\n",
       "      <th>Ecology_3</th>\n",
       "      <th>Social_1</th>\n",
       "      <th>Social_2</th>\n",
       "      <th>Social_3</th>\n",
       "      <th>Healthcare_1</th>\n",
       "      <th>Helthcare_2</th>\n",
       "      <th>Shops_1</th>\n",
       "      <th>Shops_2</th>\n",
       "    </tr>\n",
       "    <tr>\n",
       "      <th>Id</th>\n",
       "      <th></th>\n",
       "      <th></th>\n",
       "      <th></th>\n",
       "      <th></th>\n",
       "      <th></th>\n",
       "      <th></th>\n",
       "      <th></th>\n",
       "      <th></th>\n",
       "      <th></th>\n",
       "      <th></th>\n",
       "      <th></th>\n",
       "      <th></th>\n",
       "      <th></th>\n",
       "      <th></th>\n",
       "      <th></th>\n",
       "      <th></th>\n",
       "      <th></th>\n",
       "      <th></th>\n",
       "    </tr>\n",
       "  </thead>\n",
       "  <tbody>\n",
       "    <tr>\n",
       "      <th>4567</th>\n",
       "      <td>44</td>\n",
       "      <td>1.0</td>\n",
       "      <td>36.847630</td>\n",
       "      <td>19.094182</td>\n",
       "      <td>5.0</td>\n",
       "      <td>5</td>\n",
       "      <td>9.0</td>\n",
       "      <td>1970</td>\n",
       "      <td>0.036122</td>\n",
       "      <td>B</td>\n",
       "      <td>B</td>\n",
       "      <td>24</td>\n",
       "      <td>4378</td>\n",
       "      <td>0</td>\n",
       "      <td>1036.0</td>\n",
       "      <td>1</td>\n",
       "      <td>1</td>\n",
       "      <td>B</td>\n",
       "    </tr>\n",
       "    <tr>\n",
       "      <th>5925</th>\n",
       "      <td>62</td>\n",
       "      <td>1.0</td>\n",
       "      <td>42.493907</td>\n",
       "      <td>42.568133</td>\n",
       "      <td>10.0</td>\n",
       "      <td>7</td>\n",
       "      <td>17.0</td>\n",
       "      <td>2017</td>\n",
       "      <td>0.072158</td>\n",
       "      <td>B</td>\n",
       "      <td>B</td>\n",
       "      <td>2</td>\n",
       "      <td>629</td>\n",
       "      <td>1</td>\n",
       "      <td>NaN</td>\n",
       "      <td>0</td>\n",
       "      <td>0</td>\n",
       "      <td>A</td>\n",
       "    </tr>\n",
       "    <tr>\n",
       "      <th>960</th>\n",
       "      <td>27</td>\n",
       "      <td>2.0</td>\n",
       "      <td>59.463678</td>\n",
       "      <td>NaN</td>\n",
       "      <td>9.0</td>\n",
       "      <td>19</td>\n",
       "      <td>19.0</td>\n",
       "      <td>1977</td>\n",
       "      <td>0.211401</td>\n",
       "      <td>B</td>\n",
       "      <td>B</td>\n",
       "      <td>9</td>\n",
       "      <td>1892</td>\n",
       "      <td>0</td>\n",
       "      <td>NaN</td>\n",
       "      <td>0</td>\n",
       "      <td>1</td>\n",
       "      <td>B</td>\n",
       "    </tr>\n",
       "    <tr>\n",
       "      <th>3848</th>\n",
       "      <td>23</td>\n",
       "      <td>3.0</td>\n",
       "      <td>49.646030</td>\n",
       "      <td>33.893825</td>\n",
       "      <td>6.0</td>\n",
       "      <td>2</td>\n",
       "      <td>2.0</td>\n",
       "      <td>1965</td>\n",
       "      <td>0.014073</td>\n",
       "      <td>B</td>\n",
       "      <td>B</td>\n",
       "      <td>2</td>\n",
       "      <td>475</td>\n",
       "      <td>0</td>\n",
       "      <td>NaN</td>\n",
       "      <td>0</td>\n",
       "      <td>0</td>\n",
       "      <td>B</td>\n",
       "    </tr>\n",
       "    <tr>\n",
       "      <th>746</th>\n",
       "      <td>74</td>\n",
       "      <td>1.0</td>\n",
       "      <td>53.837056</td>\n",
       "      <td>NaN</td>\n",
       "      <td>1.0</td>\n",
       "      <td>8</td>\n",
       "      <td>17.0</td>\n",
       "      <td>1977</td>\n",
       "      <td>0.309479</td>\n",
       "      <td>B</td>\n",
       "      <td>B</td>\n",
       "      <td>35</td>\n",
       "      <td>7715</td>\n",
       "      <td>4</td>\n",
       "      <td>990.0</td>\n",
       "      <td>0</td>\n",
       "      <td>6</td>\n",
       "      <td>B</td>\n",
       "    </tr>\n",
       "  </tbody>\n",
       "</table>\n",
       "</div>"
      ],
      "text/plain": [
       "      DistrictId  Rooms     Square  LifeSquare  KitchenSquare  Floor  \\\n",
       "Id                                                                     \n",
       "4567          44    1.0  36.847630   19.094182            5.0      5   \n",
       "5925          62    1.0  42.493907   42.568133           10.0      7   \n",
       "960           27    2.0  59.463678         NaN            9.0     19   \n",
       "3848          23    3.0  49.646030   33.893825            6.0      2   \n",
       "746           74    1.0  53.837056         NaN            1.0      8   \n",
       "\n",
       "      HouseFloor  HouseYear  Ecology_1 Ecology_2 Ecology_3  Social_1  \\\n",
       "Id                                                                     \n",
       "4567         9.0       1970   0.036122         B         B        24   \n",
       "5925        17.0       2017   0.072158         B         B         2   \n",
       "960         19.0       1977   0.211401         B         B         9   \n",
       "3848         2.0       1965   0.014073         B         B         2   \n",
       "746         17.0       1977   0.309479         B         B        35   \n",
       "\n",
       "      Social_2  Social_3  Healthcare_1  Helthcare_2  Shops_1 Shops_2  \n",
       "Id                                                                    \n",
       "4567      4378         0        1036.0            1        1       B  \n",
       "5925       629         1           NaN            0        0       A  \n",
       "960       1892         0           NaN            0        1       B  \n",
       "3848       475         0           NaN            0        0       B  \n",
       "746       7715         4         990.0            0        6       B  "
      ]
     },
     "execution_count": 9,
     "metadata": {},
     "output_type": "execute_result"
    }
   ],
   "source": [
    "data_test.head()"
   ]
  },
  {
   "cell_type": "code",
   "execution_count": 10,
   "id": "ec1ec5cb",
   "metadata": {},
   "outputs": [
    {
     "data": {
      "text/plain": [
       "True"
      ]
     },
     "execution_count": 10,
     "metadata": {},
     "output_type": "execute_result"
    }
   ],
   "source": [
    "data_train.shape[1]-1 == data_test.shape[1]"
   ]
  },
  {
   "cell_type": "markdown",
   "id": "6ddf401d",
   "metadata": {},
   "source": [
    "### Предварительный анализ данных "
   ]
  },
  {
   "cell_type": "code",
   "execution_count": 11,
   "id": "438cca0a",
   "metadata": {},
   "outputs": [
    {
     "data": {
      "text/plain": [
       "DistrictId       False\n",
       "Rooms            False\n",
       "Square           False\n",
       "LifeSquare        True\n",
       "KitchenSquare    False\n",
       "Floor            False\n",
       "HouseFloor       False\n",
       "HouseYear        False\n",
       "Ecology_1        False\n",
       "Ecology_2        False\n",
       "Ecology_3        False\n",
       "Social_1         False\n",
       "Social_2         False\n",
       "Social_3         False\n",
       "Healthcare_1      True\n",
       "Helthcare_2      False\n",
       "Shops_1          False\n",
       "Shops_2          False\n",
       "Price            False\n",
       "dtype: bool"
      ]
     },
     "execution_count": 11,
     "metadata": {},
     "output_type": "execute_result"
    }
   ],
   "source": [
    "# Проверияем есть ли нулевые колонки\n",
    "data_train.isnull().any()"
   ]
  },
  {
   "cell_type": "code",
   "execution_count": 12,
   "id": "970e4232",
   "metadata": {},
   "outputs": [
    {
     "data": {
      "text/plain": [
       "Index(['DistrictId', 'Rooms', 'Square', 'LifeSquare', 'KitchenSquare', 'Floor',\n",
       "       'HouseFloor', 'HouseYear', 'Ecology_1', 'Ecology_2', 'Ecology_3',\n",
       "       'Social_1', 'Social_2', 'Social_3', 'Healthcare_1', 'Helthcare_2',\n",
       "       'Shops_1', 'Shops_2', 'Price'],\n",
       "      dtype='object')"
      ]
     },
     "execution_count": 12,
     "metadata": {},
     "output_type": "execute_result"
    }
   ],
   "source": [
    "data_train.columns"
   ]
  },
  {
   "cell_type": "code",
   "execution_count": 13,
   "id": "b29a40c8",
   "metadata": {},
   "outputs": [],
   "source": [
    "data_train['DistrictId'] = data_train['DistrictId'].astype(str)"
   ]
  },
  {
   "cell_type": "code",
   "execution_count": 14,
   "id": "f0f5f0c3",
   "metadata": {},
   "outputs": [
    {
     "data": {
      "image/png": "[encoded data removed]",
      "text/plain": [
       "<Figure size 1152x576 with 1 Axes>"
      ]
     },
     "metadata": {
      "needs_background": "light"
     },
     "output_type": "display_data"
    }
   ],
   "source": [
    "plt.figure(figsize=(16, 8))\n",
    "data_train['Price'].hist(bins=25, ec='black')\n",
    "plt.ylabel('Counts')\n",
    "plt.xlabel('Price')\n",
    "\n",
    "plt.title('Target dist')\n",
    "plt.show()"
   ]
  },
  {
   "cell_type": "code",
   "execution_count": 15,
   "id": "59bbc50e",
   "metadata": {},
   "outputs": [
    {
     "data": {
      "text/html": [
       "<div>\n",
       "<style scoped>\n",
       "    .dataframe tbody tr th:only-of-type {\n",
       "        vertical-align: middle;\n",
       "    }\n",
       "\n",
       "    .dataframe tbody tr th {\n",
       "        vertical-align: top;\n",
       "    }\n",
       "\n",
       "    .dataframe thead th {\n",
       "        text-align: right;\n",
       "    }\n",
       "</style>\n",
       "<table border=\"1\" class=\"dataframe\">\n",
       "  <thead>\n",
       "    <tr style=\"text-align: right;\">\n",
       "      <th></th>\n",
       "      <th>count</th>\n",
       "      <th>mean</th>\n",
       "      <th>std</th>\n",
       "      <th>min</th>\n",
       "      <th>25%</th>\n",
       "      <th>50%</th>\n",
       "      <th>75%</th>\n",
       "      <th>max</th>\n",
       "    </tr>\n",
       "  </thead>\n",
       "  <tbody>\n",
       "    <tr>\n",
       "      <th>Rooms</th>\n",
       "      <td>10000.0</td>\n",
       "      <td>1.890500</td>\n",
       "      <td>0.839512</td>\n",
       "      <td>0.000000</td>\n",
       "      <td>1.000000</td>\n",
       "      <td>2.000000</td>\n",
       "      <td>2.000000</td>\n",
       "      <td>1.900000e+01</td>\n",
       "    </tr>\n",
       "    <tr>\n",
       "      <th>Square</th>\n",
       "      <td>10000.0</td>\n",
       "      <td>56.315775</td>\n",
       "      <td>21.058732</td>\n",
       "      <td>1.136859</td>\n",
       "      <td>41.774881</td>\n",
       "      <td>52.513310</td>\n",
       "      <td>65.900625</td>\n",
       "      <td>6.410652e+02</td>\n",
       "    </tr>\n",
       "    <tr>\n",
       "      <th>LifeSquare</th>\n",
       "      <td>7887.0</td>\n",
       "      <td>37.199645</td>\n",
       "      <td>86.241209</td>\n",
       "      <td>0.370619</td>\n",
       "      <td>22.769832</td>\n",
       "      <td>32.781260</td>\n",
       "      <td>45.128803</td>\n",
       "      <td>7.480592e+03</td>\n",
       "    </tr>\n",
       "    <tr>\n",
       "      <th>KitchenSquare</th>\n",
       "      <td>10000.0</td>\n",
       "      <td>6.273300</td>\n",
       "      <td>28.560917</td>\n",
       "      <td>0.000000</td>\n",
       "      <td>1.000000</td>\n",
       "      <td>6.000000</td>\n",
       "      <td>9.000000</td>\n",
       "      <td>2.014000e+03</td>\n",
       "    </tr>\n",
       "    <tr>\n",
       "      <th>Floor</th>\n",
       "      <td>10000.0</td>\n",
       "      <td>8.526700</td>\n",
       "      <td>5.241148</td>\n",
       "      <td>1.000000</td>\n",
       "      <td>4.000000</td>\n",
       "      <td>7.000000</td>\n",
       "      <td>12.000000</td>\n",
       "      <td>4.200000e+01</td>\n",
       "    </tr>\n",
       "    <tr>\n",
       "      <th>HouseFloor</th>\n",
       "      <td>10000.0</td>\n",
       "      <td>12.609400</td>\n",
       "      <td>6.775974</td>\n",
       "      <td>0.000000</td>\n",
       "      <td>9.000000</td>\n",
       "      <td>13.000000</td>\n",
       "      <td>17.000000</td>\n",
       "      <td>1.170000e+02</td>\n",
       "    </tr>\n",
       "    <tr>\n",
       "      <th>HouseYear</th>\n",
       "      <td>10000.0</td>\n",
       "      <td>3990.166300</td>\n",
       "      <td>200500.261427</td>\n",
       "      <td>1910.000000</td>\n",
       "      <td>1974.000000</td>\n",
       "      <td>1977.000000</td>\n",
       "      <td>2001.000000</td>\n",
       "      <td>2.005201e+07</td>\n",
       "    </tr>\n",
       "    <tr>\n",
       "      <th>Ecology_1</th>\n",
       "      <td>10000.0</td>\n",
       "      <td>0.118858</td>\n",
       "      <td>0.119025</td>\n",
       "      <td>0.000000</td>\n",
       "      <td>0.017647</td>\n",
       "      <td>0.075424</td>\n",
       "      <td>0.195781</td>\n",
       "      <td>5.218671e-01</td>\n",
       "    </tr>\n",
       "    <tr>\n",
       "      <th>Social_1</th>\n",
       "      <td>10000.0</td>\n",
       "      <td>24.687000</td>\n",
       "      <td>17.532614</td>\n",
       "      <td>0.000000</td>\n",
       "      <td>6.000000</td>\n",
       "      <td>25.000000</td>\n",
       "      <td>36.000000</td>\n",
       "      <td>7.400000e+01</td>\n",
       "    </tr>\n",
       "    <tr>\n",
       "      <th>Social_2</th>\n",
       "      <td>10000.0</td>\n",
       "      <td>5352.157400</td>\n",
       "      <td>4006.799803</td>\n",
       "      <td>168.000000</td>\n",
       "      <td>1564.000000</td>\n",
       "      <td>5285.000000</td>\n",
       "      <td>7227.000000</td>\n",
       "      <td>1.908300e+04</td>\n",
       "    </tr>\n",
       "    <tr>\n",
       "      <th>Social_3</th>\n",
       "      <td>10000.0</td>\n",
       "      <td>8.039200</td>\n",
       "      <td>23.831875</td>\n",
       "      <td>0.000000</td>\n",
       "      <td>0.000000</td>\n",
       "      <td>2.000000</td>\n",
       "      <td>5.000000</td>\n",
       "      <td>1.410000e+02</td>\n",
       "    </tr>\n",
       "    <tr>\n",
       "      <th>Healthcare_1</th>\n",
       "      <td>5202.0</td>\n",
       "      <td>1142.904460</td>\n",
       "      <td>1021.517264</td>\n",
       "      <td>0.000000</td>\n",
       "      <td>350.000000</td>\n",
       "      <td>900.000000</td>\n",
       "      <td>1548.000000</td>\n",
       "      <td>4.849000e+03</td>\n",
       "    </tr>\n",
       "    <tr>\n",
       "      <th>Helthcare_2</th>\n",
       "      <td>10000.0</td>\n",
       "      <td>1.319500</td>\n",
       "      <td>1.493601</td>\n",
       "      <td>0.000000</td>\n",
       "      <td>0.000000</td>\n",
       "      <td>1.000000</td>\n",
       "      <td>2.000000</td>\n",
       "      <td>6.000000e+00</td>\n",
       "    </tr>\n",
       "    <tr>\n",
       "      <th>Shops_1</th>\n",
       "      <td>10000.0</td>\n",
       "      <td>4.231300</td>\n",
       "      <td>4.806341</td>\n",
       "      <td>0.000000</td>\n",
       "      <td>1.000000</td>\n",
       "      <td>3.000000</td>\n",
       "      <td>6.000000</td>\n",
       "      <td>2.300000e+01</td>\n",
       "    </tr>\n",
       "    <tr>\n",
       "      <th>Price</th>\n",
       "      <td>10000.0</td>\n",
       "      <td>214138.857399</td>\n",
       "      <td>92872.293865</td>\n",
       "      <td>59174.778028</td>\n",
       "      <td>153872.633942</td>\n",
       "      <td>192269.644879</td>\n",
       "      <td>249135.462171</td>\n",
       "      <td>6.332335e+05</td>\n",
       "    </tr>\n",
       "  </tbody>\n",
       "</table>\n",
       "</div>"
      ],
      "text/plain": [
       "                 count           mean            std           min  \\\n",
       "Rooms          10000.0       1.890500       0.839512      0.000000   \n",
       "Square         10000.0      56.315775      21.058732      1.136859   \n",
       "LifeSquare      7887.0      37.199645      86.241209      0.370619   \n",
       "KitchenSquare  10000.0       6.273300      28.560917      0.000000   \n",
       "Floor          10000.0       8.526700       5.241148      1.000000   \n",
       "HouseFloor     10000.0      12.609400       6.775974      0.000000   \n",
       "HouseYear      10000.0    3990.166300  200500.261427   1910.000000   \n",
       "Ecology_1      10000.0       0.118858       0.119025      0.000000   \n",
       "Social_1       10000.0      24.687000      17.532614      0.000000   \n",
       "Social_2       10000.0    5352.157400    4006.799803    168.000000   \n",
       "Social_3       10000.0       8.039200      23.831875      0.000000   \n",
       "Healthcare_1    5202.0    1142.904460    1021.517264      0.000000   \n",
       "Helthcare_2    10000.0       1.319500       1.493601      0.000000   \n",
       "Shops_1        10000.0       4.231300       4.806341      0.000000   \n",
       "Price          10000.0  214138.857399   92872.293865  59174.778028   \n",
       "\n",
       "                         25%            50%            75%           max  \n",
       "Rooms               1.000000       2.000000       2.000000  1.900000e+01  \n",
       "Square             41.774881      52.513310      65.900625  6.410652e+02  \n",
       "LifeSquare         22.769832      32.781260      45.128803  7.480592e+03  \n",
       "KitchenSquare       1.000000       6.000000       9.000000  2.014000e+03  \n",
       "Floor               4.000000       7.000000      12.000000  4.200000e+01  \n",
       "HouseFloor          9.000000      13.000000      17.000000  1.170000e+02  \n",
       "HouseYear        1974.000000    1977.000000    2001.000000  2.005201e+07  \n",
       "Ecology_1           0.017647       0.075424       0.195781  5.218671e-01  \n",
       "Social_1            6.000000      25.000000      36.000000  7.400000e+01  \n",
       "Social_2         1564.000000    5285.000000    7227.000000  1.908300e+04  \n",
       "Social_3            0.000000       2.000000       5.000000  1.410000e+02  \n",
       "Healthcare_1      350.000000     900.000000    1548.000000  4.849000e+03  \n",
       "Helthcare_2         0.000000       1.000000       2.000000  6.000000e+00  \n",
       "Shops_1             1.000000       3.000000       6.000000  2.300000e+01  \n",
       "Price          153872.633942  192269.644879  249135.462171  6.332335e+05  "
      ]
     },
     "execution_count": 15,
     "metadata": {},
     "output_type": "execute_result"
    }
   ],
   "source": [
    "data_train.describe().T"
   ]
  },
  {
   "cell_type": "markdown",
   "id": "4d6e7906",
   "metadata": {},
   "source": [
    "### Предварительный анализ показал, есть очевидные некорректные данные, касательно колличества комнат и квадратуры помещений, больший этаж кваритиры чем колличество этажей в доме, а так же нулевые этажи. Есть нулевые значения в данных (пропущенные строки)."
   ]
  },
  {
   "cell_type": "code",
   "execution_count": 16,
   "id": "9bf336c6",
   "metadata": {},
   "outputs": [
    {
     "data": {
      "text/plain": [
       "['DistrictId', 'Ecology_2', 'Ecology_3', 'Shops_2']"
      ]
     },
     "execution_count": 16,
     "metadata": {},
     "output_type": "execute_result"
    }
   ],
   "source": [
    "data_train.select_dtypes(include='object').columns.tolist()"
   ]
  },
  {
   "cell_type": "code",
   "execution_count": 17,
   "id": "86bf1bd3",
   "metadata": {},
   "outputs": [
    {
     "data": {
      "text/plain": [
       "B    9903\n",
       "A      97\n",
       "Name: Ecology_2, dtype: int64"
      ]
     },
     "execution_count": 17,
     "metadata": {},
     "output_type": "execute_result"
    }
   ],
   "source": [
    "data_train['Ecology_2'].value_counts()"
   ]
  },
  {
   "cell_type": "code",
   "execution_count": 18,
   "id": "2aea9253",
   "metadata": {},
   "outputs": [
    {
     "data": {
      "text/plain": [
       "B    9175\n",
       "A     825\n",
       "Name: Shops_2, dtype: int64"
      ]
     },
     "execution_count": 18,
     "metadata": {},
     "output_type": "execute_result"
    }
   ],
   "source": [
    "data_train['Shops_2'].value_counts()"
   ]
  },
  {
   "cell_type": "code",
   "execution_count": 19,
   "id": "8b2d6323",
   "metadata": {},
   "outputs": [
    {
     "data": {
      "text/plain": [
       "B    9725\n",
       "A     275\n",
       "Name: Ecology_3, dtype: int64"
      ]
     },
     "execution_count": 19,
     "metadata": {},
     "output_type": "execute_result"
    }
   ],
   "source": [
    "data_train['Ecology_3'].value_counts()"
   ]
  },
  {
   "cell_type": "code",
   "execution_count": 20,
   "id": "5e8fa78c",
   "metadata": {},
   "outputs": [
    {
     "data": {
      "text/plain": [
       "27     851\n",
       "1      652\n",
       "23     565\n",
       "6      511\n",
       "9      294\n",
       "      ... \n",
       "199      1\n",
       "117      1\n",
       "207      1\n",
       "209      1\n",
       "174      1\n",
       "Name: DistrictId, Length: 205, dtype: int64"
      ]
     },
     "execution_count": 20,
     "metadata": {},
     "output_type": "execute_result"
    }
   ],
   "source": [
    "data_train['DistrictId'].value_counts()"
   ]
  },
  {
   "cell_type": "markdown",
   "id": "1598b157",
   "metadata": {},
   "source": [
    "#### Проверияем сколько не заполненных строк есть в дата сете"
   ]
  },
  {
   "cell_type": "code",
   "execution_count": 21,
   "id": "86b645f4",
   "metadata": {},
   "outputs": [
    {
     "name": "stdout",
     "output_type": "stream",
     "text": [
      "<class 'pandas.core.frame.DataFrame'>\n",
      "Int64Index: 10000 entries, 11809 to 7202\n",
      "Data columns (total 19 columns):\n",
      " #   Column         Non-Null Count  Dtype  \n",
      "---  ------         --------------  -----  \n",
      " 0   DistrictId     10000 non-null  object \n",
      " 1   Rooms          10000 non-null  float64\n",
      " 2   Square         10000 non-null  float64\n",
      " 3   LifeSquare     7887 non-null   float64\n",
      " 4   KitchenSquare  10000 non-null  float64\n",
      " 5   Floor          10000 non-null  int64  \n",
      " 6   HouseFloor     10000 non-null  float64\n",
      " 7   HouseYear      10000 non-null  int64  \n",
      " 8   Ecology_1      10000 non-null  float64\n",
      " 9   Ecology_2      10000 non-null  object \n",
      " 10  Ecology_3      10000 non-null  object \n",
      " 11  Social_1       10000 non-null  int64  \n",
      " 12  Social_2       10000 non-null  int64  \n",
      " 13  Social_3       10000 non-null  int64  \n",
      " 14  Healthcare_1   5202 non-null   float64\n",
      " 15  Helthcare_2    10000 non-null  int64  \n",
      " 16  Shops_1        10000 non-null  int64  \n",
      " 17  Shops_2        10000 non-null  object \n",
      " 18  Price          10000 non-null  float64\n",
      "dtypes: float64(8), int64(7), object(4)\n",
      "memory usage: 1.5+ MB\n"
     ]
    }
   ],
   "source": [
    "data_train.info()"
   ]
  },
  {
   "cell_type": "markdown",
   "id": "935aa08d",
   "metadata": {},
   "source": [
    "#### Проработка выбросов по комнатам "
   ]
  },
  {
   "cell_type": "code",
   "execution_count": 22,
   "id": "4c3edb82",
   "metadata": {},
   "outputs": [
    {
     "data": {
      "text/plain": [
       "2.0     3880\n",
       "1.0     3705\n",
       "3.0     2235\n",
       "4.0      150\n",
       "5.0       18\n",
       "0.0        8\n",
       "10.0       2\n",
       "19.0       1\n",
       "6.0        1\n",
       "Name: Rooms, dtype: int64"
      ]
     },
     "execution_count": 22,
     "metadata": {},
     "output_type": "execute_result"
    }
   ],
   "source": [
    "data_train['Rooms'].value_counts()"
   ]
  },
  {
   "cell_type": "code",
   "execution_count": 23,
   "id": "237b3562",
   "metadata": {},
   "outputs": [],
   "source": [
    "# Все значения от 0 комнат, и болше 5 приравниваем к медиане.\n",
    "median = data_train['Rooms'].median()\n",
    "data_train.loc[(data_train['Rooms'] > 5) | (data_train['Rooms'] == 0), 'Rooms'] = median"
   ]
  },
  {
   "cell_type": "code",
   "execution_count": 24,
   "id": "200cda26",
   "metadata": {},
   "outputs": [
    {
     "data": {
      "text/plain": [
       "2.0    3892\n",
       "1.0    3705\n",
       "3.0    2235\n",
       "4.0     150\n",
       "5.0      18\n",
       "Name: Rooms, dtype: int64"
      ]
     },
     "execution_count": 24,
     "metadata": {},
     "output_type": "execute_result"
    }
   ],
   "source": [
    "data_train['Rooms'].value_counts()"
   ]
  },
  {
   "cell_type": "code",
   "execution_count": 24,
   "id": "2ea705ab",
   "metadata": {},
   "outputs": [],
   "source": []
  },
  {
   "cell_type": "code",
   "execution_count": 25,
   "id": "3d115a42",
   "metadata": {},
   "outputs": [
    {
     "data": {
      "text/html": [
       "<div>\n",
       "<style scoped>\n",
       "    .dataframe tbody tr th:only-of-type {\n",
       "        vertical-align: middle;\n",
       "    }\n",
       "\n",
       "    .dataframe tbody tr th {\n",
       "        vertical-align: top;\n",
       "    }\n",
       "\n",
       "    .dataframe thead th {\n",
       "        text-align: right;\n",
       "    }\n",
       "</style>\n",
       "<table border=\"1\" class=\"dataframe\">\n",
       "  <thead>\n",
       "    <tr style=\"text-align: right;\">\n",
       "      <th></th>\n",
       "      <th>count</th>\n",
       "      <th>mean</th>\n",
       "      <th>std</th>\n",
       "      <th>min</th>\n",
       "      <th>25%</th>\n",
       "      <th>50%</th>\n",
       "      <th>75%</th>\n",
       "      <th>max</th>\n",
       "    </tr>\n",
       "  </thead>\n",
       "  <tbody>\n",
       "    <tr>\n",
       "      <th>Rooms</th>\n",
       "      <td>10000.0</td>\n",
       "      <td>1.888400</td>\n",
       "      <td>0.811056</td>\n",
       "      <td>1.000000</td>\n",
       "      <td>1.000000</td>\n",
       "      <td>2.000000</td>\n",
       "      <td>2.000000</td>\n",
       "      <td>5.000000e+00</td>\n",
       "    </tr>\n",
       "    <tr>\n",
       "      <th>Square</th>\n",
       "      <td>10000.0</td>\n",
       "      <td>56.315775</td>\n",
       "      <td>21.058732</td>\n",
       "      <td>1.136859</td>\n",
       "      <td>41.774881</td>\n",
       "      <td>52.513310</td>\n",
       "      <td>65.900625</td>\n",
       "      <td>6.410652e+02</td>\n",
       "    </tr>\n",
       "    <tr>\n",
       "      <th>LifeSquare</th>\n",
       "      <td>7887.0</td>\n",
       "      <td>37.199645</td>\n",
       "      <td>86.241209</td>\n",
       "      <td>0.370619</td>\n",
       "      <td>22.769832</td>\n",
       "      <td>32.781260</td>\n",
       "      <td>45.128803</td>\n",
       "      <td>7.480592e+03</td>\n",
       "    </tr>\n",
       "    <tr>\n",
       "      <th>KitchenSquare</th>\n",
       "      <td>10000.0</td>\n",
       "      <td>6.273300</td>\n",
       "      <td>28.560917</td>\n",
       "      <td>0.000000</td>\n",
       "      <td>1.000000</td>\n",
       "      <td>6.000000</td>\n",
       "      <td>9.000000</td>\n",
       "      <td>2.014000e+03</td>\n",
       "    </tr>\n",
       "    <tr>\n",
       "      <th>Floor</th>\n",
       "      <td>10000.0</td>\n",
       "      <td>8.526700</td>\n",
       "      <td>5.241148</td>\n",
       "      <td>1.000000</td>\n",
       "      <td>4.000000</td>\n",
       "      <td>7.000000</td>\n",
       "      <td>12.000000</td>\n",
       "      <td>4.200000e+01</td>\n",
       "    </tr>\n",
       "    <tr>\n",
       "      <th>HouseFloor</th>\n",
       "      <td>10000.0</td>\n",
       "      <td>12.609400</td>\n",
       "      <td>6.775974</td>\n",
       "      <td>0.000000</td>\n",
       "      <td>9.000000</td>\n",
       "      <td>13.000000</td>\n",
       "      <td>17.000000</td>\n",
       "      <td>1.170000e+02</td>\n",
       "    </tr>\n",
       "    <tr>\n",
       "      <th>HouseYear</th>\n",
       "      <td>10000.0</td>\n",
       "      <td>3990.166300</td>\n",
       "      <td>200500.261427</td>\n",
       "      <td>1910.000000</td>\n",
       "      <td>1974.000000</td>\n",
       "      <td>1977.000000</td>\n",
       "      <td>2001.000000</td>\n",
       "      <td>2.005201e+07</td>\n",
       "    </tr>\n",
       "    <tr>\n",
       "      <th>Ecology_1</th>\n",
       "      <td>10000.0</td>\n",
       "      <td>0.118858</td>\n",
       "      <td>0.119025</td>\n",
       "      <td>0.000000</td>\n",
       "      <td>0.017647</td>\n",
       "      <td>0.075424</td>\n",
       "      <td>0.195781</td>\n",
       "      <td>5.218671e-01</td>\n",
       "    </tr>\n",
       "    <tr>\n",
       "      <th>Social_1</th>\n",
       "      <td>10000.0</td>\n",
       "      <td>24.687000</td>\n",
       "      <td>17.532614</td>\n",
       "      <td>0.000000</td>\n",
       "      <td>6.000000</td>\n",
       "      <td>25.000000</td>\n",
       "      <td>36.000000</td>\n",
       "      <td>7.400000e+01</td>\n",
       "    </tr>\n",
       "    <tr>\n",
       "      <th>Social_2</th>\n",
       "      <td>10000.0</td>\n",
       "      <td>5352.157400</td>\n",
       "      <td>4006.799803</td>\n",
       "      <td>168.000000</td>\n",
       "      <td>1564.000000</td>\n",
       "      <td>5285.000000</td>\n",
       "      <td>7227.000000</td>\n",
       "      <td>1.908300e+04</td>\n",
       "    </tr>\n",
       "    <tr>\n",
       "      <th>Social_3</th>\n",
       "      <td>10000.0</td>\n",
       "      <td>8.039200</td>\n",
       "      <td>23.831875</td>\n",
       "      <td>0.000000</td>\n",
       "      <td>0.000000</td>\n",
       "      <td>2.000000</td>\n",
       "      <td>5.000000</td>\n",
       "      <td>1.410000e+02</td>\n",
       "    </tr>\n",
       "    <tr>\n",
       "      <th>Healthcare_1</th>\n",
       "      <td>5202.0</td>\n",
       "      <td>1142.904460</td>\n",
       "      <td>1021.517264</td>\n",
       "      <td>0.000000</td>\n",
       "      <td>350.000000</td>\n",
       "      <td>900.000000</td>\n",
       "      <td>1548.000000</td>\n",
       "      <td>4.849000e+03</td>\n",
       "    </tr>\n",
       "    <tr>\n",
       "      <th>Helthcare_2</th>\n",
       "      <td>10000.0</td>\n",
       "      <td>1.319500</td>\n",
       "      <td>1.493601</td>\n",
       "      <td>0.000000</td>\n",
       "      <td>0.000000</td>\n",
       "      <td>1.000000</td>\n",
       "      <td>2.000000</td>\n",
       "      <td>6.000000e+00</td>\n",
       "    </tr>\n",
       "    <tr>\n",
       "      <th>Shops_1</th>\n",
       "      <td>10000.0</td>\n",
       "      <td>4.231300</td>\n",
       "      <td>4.806341</td>\n",
       "      <td>0.000000</td>\n",
       "      <td>1.000000</td>\n",
       "      <td>3.000000</td>\n",
       "      <td>6.000000</td>\n",
       "      <td>2.300000e+01</td>\n",
       "    </tr>\n",
       "    <tr>\n",
       "      <th>Price</th>\n",
       "      <td>10000.0</td>\n",
       "      <td>214138.857399</td>\n",
       "      <td>92872.293865</td>\n",
       "      <td>59174.778028</td>\n",
       "      <td>153872.633942</td>\n",
       "      <td>192269.644879</td>\n",
       "      <td>249135.462171</td>\n",
       "      <td>6.332335e+05</td>\n",
       "    </tr>\n",
       "  </tbody>\n",
       "</table>\n",
       "</div>"
      ],
      "text/plain": [
       "                 count           mean            std           min  \\\n",
       "Rooms          10000.0       1.888400       0.811056      1.000000   \n",
       "Square         10000.0      56.315775      21.058732      1.136859   \n",
       "LifeSquare      7887.0      37.199645      86.241209      0.370619   \n",
       "KitchenSquare  10000.0       6.273300      28.560917      0.000000   \n",
       "Floor          10000.0       8.526700       5.241148      1.000000   \n",
       "HouseFloor     10000.0      12.609400       6.775974      0.000000   \n",
       "HouseYear      10000.0    3990.166300  200500.261427   1910.000000   \n",
       "Ecology_1      10000.0       0.118858       0.119025      0.000000   \n",
       "Social_1       10000.0      24.687000      17.532614      0.000000   \n",
       "Social_2       10000.0    5352.157400    4006.799803    168.000000   \n",
       "Social_3       10000.0       8.039200      23.831875      0.000000   \n",
       "Healthcare_1    5202.0    1142.904460    1021.517264      0.000000   \n",
       "Helthcare_2    10000.0       1.319500       1.493601      0.000000   \n",
       "Shops_1        10000.0       4.231300       4.806341      0.000000   \n",
       "Price          10000.0  214138.857399   92872.293865  59174.778028   \n",
       "\n",
       "                         25%            50%            75%           max  \n",
       "Rooms               1.000000       2.000000       2.000000  5.000000e+00  \n",
       "Square             41.774881      52.513310      65.900625  6.410652e+02  \n",
       "LifeSquare         22.769832      32.781260      45.128803  7.480592e+03  \n",
       "KitchenSquare       1.000000       6.000000       9.000000  2.014000e+03  \n",
       "Floor               4.000000       7.000000      12.000000  4.200000e+01  \n",
       "HouseFloor          9.000000      13.000000      17.000000  1.170000e+02  \n",
       "HouseYear        1974.000000    1977.000000    2001.000000  2.005201e+07  \n",
       "Ecology_1           0.017647       0.075424       0.195781  5.218671e-01  \n",
       "Social_1            6.000000      25.000000      36.000000  7.400000e+01  \n",
       "Social_2         1564.000000    5285.000000    7227.000000  1.908300e+04  \n",
       "Social_3            0.000000       2.000000       5.000000  1.410000e+02  \n",
       "Healthcare_1      350.000000     900.000000    1548.000000  4.849000e+03  \n",
       "Helthcare_2         0.000000       1.000000       2.000000  6.000000e+00  \n",
       "Shops_1             1.000000       3.000000       6.000000  2.300000e+01  \n",
       "Price          153872.633942  192269.644879  249135.462171  6.332335e+05  "
      ]
     },
     "execution_count": 25,
     "metadata": {},
     "output_type": "execute_result"
    }
   ],
   "source": [
    "data_train.describe().T"
   ]
  },
  {
   "cell_type": "code",
   "execution_count": 26,
   "id": "ef397086",
   "metadata": {},
   "outputs": [
    {
     "data": {
      "text/plain": [
       "(10000, 19)"
      ]
     },
     "execution_count": 26,
     "metadata": {},
     "output_type": "execute_result"
    }
   ],
   "source": [
    "data_train.shape"
   ]
  },
  {
   "cell_type": "markdown",
   "id": "e1407251",
   "metadata": {},
   "source": [
    "#### Смотрим корреляию"
   ]
  },
  {
   "cell_type": "code",
   "execution_count": 27,
   "id": "f652f5ea",
   "metadata": {},
   "outputs": [
    {
     "data": {
      "text/html": [
       "<div>\n",
       "<style scoped>\n",
       "    .dataframe tbody tr th:only-of-type {\n",
       "        vertical-align: middle;\n",
       "    }\n",
       "\n",
       "    .dataframe tbody tr th {\n",
       "        vertical-align: top;\n",
       "    }\n",
       "\n",
       "    .dataframe thead th {\n",
       "        text-align: right;\n",
       "    }\n",
       "</style>\n",
       "<table border=\"1\" class=\"dataframe\">\n",
       "  <thead>\n",
       "    <tr style=\"text-align: right;\">\n",
       "      <th></th>\n",
       "      <th>Rooms</th>\n",
       "      <th>Square</th>\n",
       "      <th>LifeSquare</th>\n",
       "      <th>KitchenSquare</th>\n",
       "      <th>Floor</th>\n",
       "      <th>HouseFloor</th>\n",
       "      <th>HouseYear</th>\n",
       "      <th>Ecology_1</th>\n",
       "      <th>Social_1</th>\n",
       "      <th>Social_2</th>\n",
       "      <th>Social_3</th>\n",
       "      <th>Healthcare_1</th>\n",
       "      <th>Helthcare_2</th>\n",
       "      <th>Shops_1</th>\n",
       "      <th>Price</th>\n",
       "    </tr>\n",
       "  </thead>\n",
       "  <tbody>\n",
       "    <tr>\n",
       "      <th>Rooms</th>\n",
       "      <td>1.000000</td>\n",
       "      <td>0.689532</td>\n",
       "      <td>0.138272</td>\n",
       "      <td>0.004641</td>\n",
       "      <td>-0.006098</td>\n",
       "      <td>-0.033573</td>\n",
       "      <td>-0.010959</td>\n",
       "      <td>-0.030731</td>\n",
       "      <td>0.076405</td>\n",
       "      <td>0.071335</td>\n",
       "      <td>0.014031</td>\n",
       "      <td>0.045060</td>\n",
       "      <td>0.063121</td>\n",
       "      <td>0.053238</td>\n",
       "      <td>0.571638</td>\n",
       "    </tr>\n",
       "    <tr>\n",
       "      <th>Square</th>\n",
       "      <td>0.689532</td>\n",
       "      <td>1.000000</td>\n",
       "      <td>0.196129</td>\n",
       "      <td>0.008320</td>\n",
       "      <td>0.114791</td>\n",
       "      <td>0.081505</td>\n",
       "      <td>-0.009032</td>\n",
       "      <td>-0.064479</td>\n",
       "      <td>-0.070690</td>\n",
       "      <td>-0.043120</td>\n",
       "      <td>0.035241</td>\n",
       "      <td>-0.039748</td>\n",
       "      <td>-0.022960</td>\n",
       "      <td>0.021357</td>\n",
       "      <td>0.520075</td>\n",
       "    </tr>\n",
       "    <tr>\n",
       "      <th>LifeSquare</th>\n",
       "      <td>0.138272</td>\n",
       "      <td>0.196129</td>\n",
       "      <td>1.000000</td>\n",
       "      <td>-0.001195</td>\n",
       "      <td>0.024559</td>\n",
       "      <td>0.027442</td>\n",
       "      <td>-0.002210</td>\n",
       "      <td>-0.023629</td>\n",
       "      <td>-0.048363</td>\n",
       "      <td>-0.039283</td>\n",
       "      <td>0.012763</td>\n",
       "      <td>-0.026867</td>\n",
       "      <td>-0.024762</td>\n",
       "      <td>-0.007569</td>\n",
       "      <td>0.081292</td>\n",
       "    </tr>\n",
       "    <tr>\n",
       "      <th>KitchenSquare</th>\n",
       "      <td>0.004641</td>\n",
       "      <td>0.008320</td>\n",
       "      <td>-0.001195</td>\n",
       "      <td>1.000000</td>\n",
       "      <td>-0.011397</td>\n",
       "      <td>0.000780</td>\n",
       "      <td>0.000958</td>\n",
       "      <td>-0.005622</td>\n",
       "      <td>0.043379</td>\n",
       "      <td>0.037805</td>\n",
       "      <td>-0.015140</td>\n",
       "      <td>0.009472</td>\n",
       "      <td>0.043170</td>\n",
       "      <td>0.010216</td>\n",
       "      <td>0.028864</td>\n",
       "    </tr>\n",
       "    <tr>\n",
       "      <th>Floor</th>\n",
       "      <td>-0.006098</td>\n",
       "      <td>0.114791</td>\n",
       "      <td>0.024559</td>\n",
       "      <td>-0.011397</td>\n",
       "      <td>1.000000</td>\n",
       "      <td>0.418986</td>\n",
       "      <td>0.000928</td>\n",
       "      <td>-0.016133</td>\n",
       "      <td>-0.044914</td>\n",
       "      <td>-0.016560</td>\n",
       "      <td>-0.002237</td>\n",
       "      <td>-0.138294</td>\n",
       "      <td>-0.065537</td>\n",
       "      <td>0.024264</td>\n",
       "      <td>0.128715</td>\n",
       "    </tr>\n",
       "    <tr>\n",
       "      <th>HouseFloor</th>\n",
       "      <td>-0.033573</td>\n",
       "      <td>0.081505</td>\n",
       "      <td>0.027442</td>\n",
       "      <td>0.000780</td>\n",
       "      <td>0.418986</td>\n",
       "      <td>1.000000</td>\n",
       "      <td>-0.000864</td>\n",
       "      <td>-0.004362</td>\n",
       "      <td>-0.020801</td>\n",
       "      <td>0.007194</td>\n",
       "      <td>-0.008137</td>\n",
       "      <td>-0.143973</td>\n",
       "      <td>-0.068728</td>\n",
       "      <td>0.026279</td>\n",
       "      <td>0.088280</td>\n",
       "    </tr>\n",
       "    <tr>\n",
       "      <th>HouseYear</th>\n",
       "      <td>-0.010959</td>\n",
       "      <td>-0.009032</td>\n",
       "      <td>-0.002210</td>\n",
       "      <td>0.000958</td>\n",
       "      <td>0.000928</td>\n",
       "      <td>-0.000864</td>\n",
       "      <td>1.000000</td>\n",
       "      <td>0.001465</td>\n",
       "      <td>0.003026</td>\n",
       "      <td>0.001970</td>\n",
       "      <td>0.000819</td>\n",
       "      <td>-0.011969</td>\n",
       "      <td>0.011245</td>\n",
       "      <td>0.003681</td>\n",
       "      <td>0.004305</td>\n",
       "    </tr>\n",
       "    <tr>\n",
       "      <th>Ecology_1</th>\n",
       "      <td>-0.030731</td>\n",
       "      <td>-0.064479</td>\n",
       "      <td>-0.023629</td>\n",
       "      <td>-0.005622</td>\n",
       "      <td>-0.016133</td>\n",
       "      <td>-0.004362</td>\n",
       "      <td>0.001465</td>\n",
       "      <td>1.000000</td>\n",
       "      <td>0.026464</td>\n",
       "      <td>0.009264</td>\n",
       "      <td>-0.124068</td>\n",
       "      <td>-0.043547</td>\n",
       "      <td>0.030873</td>\n",
       "      <td>-0.076749</td>\n",
       "      <td>-0.058381</td>\n",
       "    </tr>\n",
       "    <tr>\n",
       "      <th>Social_1</th>\n",
       "      <td>0.076405</td>\n",
       "      <td>-0.070690</td>\n",
       "      <td>-0.048363</td>\n",
       "      <td>0.043379</td>\n",
       "      <td>-0.044914</td>\n",
       "      <td>-0.020801</td>\n",
       "      <td>0.003026</td>\n",
       "      <td>0.026464</td>\n",
       "      <td>1.000000</td>\n",
       "      <td>0.955988</td>\n",
       "      <td>0.023721</td>\n",
       "      <td>0.077133</td>\n",
       "      <td>0.524593</td>\n",
       "      <td>0.526272</td>\n",
       "      <td>0.263286</td>\n",
       "    </tr>\n",
       "    <tr>\n",
       "      <th>Social_2</th>\n",
       "      <td>0.071335</td>\n",
       "      <td>-0.043120</td>\n",
       "      <td>-0.039283</td>\n",
       "      <td>0.037805</td>\n",
       "      <td>-0.016560</td>\n",
       "      <td>0.007194</td>\n",
       "      <td>0.001970</td>\n",
       "      <td>0.009264</td>\n",
       "      <td>0.955988</td>\n",
       "      <td>1.000000</td>\n",
       "      <td>0.073379</td>\n",
       "      <td>0.050458</td>\n",
       "      <td>0.473193</td>\n",
       "      <td>0.559163</td>\n",
       "      <td>0.239226</td>\n",
       "    </tr>\n",
       "    <tr>\n",
       "      <th>Social_3</th>\n",
       "      <td>0.014031</td>\n",
       "      <td>0.035241</td>\n",
       "      <td>0.012763</td>\n",
       "      <td>-0.015140</td>\n",
       "      <td>-0.002237</td>\n",
       "      <td>-0.008137</td>\n",
       "      <td>0.000819</td>\n",
       "      <td>-0.124068</td>\n",
       "      <td>0.023721</td>\n",
       "      <td>0.073379</td>\n",
       "      <td>1.000000</td>\n",
       "      <td>0.133877</td>\n",
       "      <td>0.286434</td>\n",
       "      <td>0.662113</td>\n",
       "      <td>0.074878</td>\n",
       "    </tr>\n",
       "    <tr>\n",
       "      <th>Healthcare_1</th>\n",
       "      <td>0.045060</td>\n",
       "      <td>-0.039748</td>\n",
       "      <td>-0.026867</td>\n",
       "      <td>0.009472</td>\n",
       "      <td>-0.138294</td>\n",
       "      <td>-0.143973</td>\n",
       "      <td>-0.011969</td>\n",
       "      <td>-0.043547</td>\n",
       "      <td>0.077133</td>\n",
       "      <td>0.050458</td>\n",
       "      <td>0.133877</td>\n",
       "      <td>1.000000</td>\n",
       "      <td>0.203177</td>\n",
       "      <td>0.057758</td>\n",
       "      <td>0.138755</td>\n",
       "    </tr>\n",
       "    <tr>\n",
       "      <th>Helthcare_2</th>\n",
       "      <td>0.063121</td>\n",
       "      <td>-0.022960</td>\n",
       "      <td>-0.024762</td>\n",
       "      <td>0.043170</td>\n",
       "      <td>-0.065537</td>\n",
       "      <td>-0.068728</td>\n",
       "      <td>0.011245</td>\n",
       "      <td>0.030873</td>\n",
       "      <td>0.524593</td>\n",
       "      <td>0.473193</td>\n",
       "      <td>0.286434</td>\n",
       "      <td>0.203177</td>\n",
       "      <td>1.000000</td>\n",
       "      <td>0.474085</td>\n",
       "      <td>0.253090</td>\n",
       "    </tr>\n",
       "    <tr>\n",
       "      <th>Shops_1</th>\n",
       "      <td>0.053238</td>\n",
       "      <td>0.021357</td>\n",
       "      <td>-0.007569</td>\n",
       "      <td>0.010216</td>\n",
       "      <td>0.024264</td>\n",
       "      <td>0.026279</td>\n",
       "      <td>0.003681</td>\n",
       "      <td>-0.076749</td>\n",
       "      <td>0.526272</td>\n",
       "      <td>0.559163</td>\n",
       "      <td>0.662113</td>\n",
       "      <td>0.057758</td>\n",
       "      <td>0.474085</td>\n",
       "      <td>1.000000</td>\n",
       "      <td>0.180876</td>\n",
       "    </tr>\n",
       "    <tr>\n",
       "      <th>Price</th>\n",
       "      <td>0.571638</td>\n",
       "      <td>0.520075</td>\n",
       "      <td>0.081292</td>\n",
       "      <td>0.028864</td>\n",
       "      <td>0.128715</td>\n",
       "      <td>0.088280</td>\n",
       "      <td>0.004305</td>\n",
       "      <td>-0.058381</td>\n",
       "      <td>0.263286</td>\n",
       "      <td>0.239226</td>\n",
       "      <td>0.074878</td>\n",
       "      <td>0.138755</td>\n",
       "      <td>0.253090</td>\n",
       "      <td>0.180876</td>\n",
       "      <td>1.000000</td>\n",
       "    </tr>\n",
       "  </tbody>\n",
       "</table>\n",
       "</div>"
      ],
      "text/plain": [
       "                  Rooms    Square  LifeSquare  KitchenSquare     Floor  \\\n",
       "Rooms          1.000000  0.689532    0.138272       0.004641 -0.006098   \n",
       "Square         0.689532  1.000000    0.196129       0.008320  0.114791   \n",
       "LifeSquare     0.138272  0.196129    1.000000      -0.001195  0.024559   \n",
       "KitchenSquare  0.004641  0.008320   -0.001195       1.000000 -0.011397   \n",
       "Floor         -0.006098  0.114791    0.024559      -0.011397  1.000000   \n",
       "HouseFloor    -0.033573  0.081505    0.027442       0.000780  0.418986   \n",
       "HouseYear     -0.010959 -0.009032   -0.002210       0.000958  0.000928   \n",
       "Ecology_1     -0.030731 -0.064479   -0.023629      -0.005622 -0.016133   \n",
       "Social_1       0.076405 -0.070690   -0.048363       0.043379 -0.044914   \n",
       "Social_2       0.071335 -0.043120   -0.039283       0.037805 -0.016560   \n",
       "Social_3       0.014031  0.035241    0.012763      -0.015140 -0.002237   \n",
       "Healthcare_1   0.045060 -0.039748   -0.026867       0.009472 -0.138294   \n",
       "Helthcare_2    0.063121 -0.022960   -0.024762       0.043170 -0.065537   \n",
       "Shops_1        0.053238  0.021357   -0.007569       0.010216  0.024264   \n",
       "Price          0.571638  0.520075    0.081292       0.028864  0.128715   \n",
       "\n",
       "               HouseFloor  HouseYear  Ecology_1  Social_1  Social_2  Social_3  \\\n",
       "Rooms           -0.033573  -0.010959  -0.030731  0.076405  0.071335  0.014031   \n",
       "Square           0.081505  -0.009032  -0.064479 -0.070690 -0.043120  0.035241   \n",
       "LifeSquare       0.027442  -0.002210  -0.023629 -0.048363 -0.039283  0.012763   \n",
       "KitchenSquare    0.000780   0.000958  -0.005622  0.043379  0.037805 -0.015140   \n",
       "Floor            0.418986   0.000928  -0.016133 -0.044914 -0.016560 -0.002237   \n",
       "HouseFloor       1.000000  -0.000864  -0.004362 -0.020801  0.007194 -0.008137   \n",
       "HouseYear       -0.000864   1.000000   0.001465  0.003026  0.001970  0.000819   \n",
       "Ecology_1       -0.004362   0.001465   1.000000  0.026464  0.009264 -0.124068   \n",
       "Social_1        -0.020801   0.003026   0.026464  1.000000  0.955988  0.023721   \n",
       "Social_2         0.007194   0.001970   0.009264  0.955988  1.000000  0.073379   \n",
       "Social_3        -0.008137   0.000819  -0.124068  0.023721  0.073379  1.000000   \n",
       "Healthcare_1    -0.143973  -0.011969  -0.043547  0.077133  0.050458  0.133877   \n",
       "Helthcare_2     -0.068728   0.011245   0.030873  0.524593  0.473193  0.286434   \n",
       "Shops_1          0.026279   0.003681  -0.076749  0.526272  0.559163  0.662113   \n",
       "Price            0.088280   0.004305  -0.058381  0.263286  0.239226  0.074878   \n",
       "\n",
       "               Healthcare_1  Helthcare_2   Shops_1     Price  \n",
       "Rooms              0.045060     0.063121  0.053238  0.571638  \n",
       "Square            -0.039748    -0.022960  0.021357  0.520075  \n",
       "LifeSquare        -0.026867    -0.024762 -0.007569  0.081292  \n",
       "KitchenSquare      0.009472     0.043170  0.010216  0.028864  \n",
       "Floor             -0.138294    -0.065537  0.024264  0.128715  \n",
       "HouseFloor        -0.143973    -0.068728  0.026279  0.088280  \n",
       "HouseYear         -0.011969     0.011245  0.003681  0.004305  \n",
       "Ecology_1         -0.043547     0.030873 -0.076749 -0.058381  \n",
       "Social_1           0.077133     0.524593  0.526272  0.263286  \n",
       "Social_2           0.050458     0.473193  0.559163  0.239226  \n",
       "Social_3           0.133877     0.286434  0.662113  0.074878  \n",
       "Healthcare_1       1.000000     0.203177  0.057758  0.138755  \n",
       "Helthcare_2        0.203177     1.000000  0.474085  0.253090  \n",
       "Shops_1            0.057758     0.474085  1.000000  0.180876  \n",
       "Price              0.138755     0.253090  0.180876  1.000000  "
      ]
     },
     "execution_count": 27,
     "metadata": {},
     "output_type": "execute_result"
    }
   ],
   "source": [
    "data_train.corr()"
   ]
  },
  {
   "cell_type": "markdown",
   "id": "984dd793",
   "metadata": {},
   "source": [
    "#### Построим тепловой график корреляции"
   ]
  },
  {
   "cell_type": "code",
   "execution_count": 28,
   "id": "2c814afb",
   "metadata": {},
   "outputs": [
    {
     "data": {
      "text/plain": [
       "<function matplotlib.pyplot.show(close=None, block=None)>"
      ]
     },
     "execution_count": 28,
     "metadata": {},
     "output_type": "execute_result"
    },
    {
     "data": {
      "image/png": "[encoded data removed]",
      "text/plain": [
       "<Figure size 1152x720 with 2 Axes>"
      ]
     },
     "metadata": {
      "needs_background": "light"
     },
     "output_type": "display_data"
    }
   ],
   "source": [
    "plt.figure(figsize=(16, 10))\n",
    "sns.heatmap(data_train.corr(), mask=False , annot=True, annot_kws={'size': 11})\n",
    "sns.set_style('white')\n",
    "plt.xticks(fontsize=14)\n",
    "plt.yticks(fontsize=14)\n",
    "plt.show"
   ]
  },
  {
   "cell_type": "markdown",
   "id": "4629a2f4",
   "metadata": {},
   "source": [
    "#### Проработка даты ввода в эксплуатацию здания "
   ]
  },
  {
   "cell_type": "code",
   "execution_count": 29,
   "id": "ced40a82",
   "metadata": {},
   "outputs": [
    {
     "data": {
      "text/plain": [
       "Id\n",
       "10814    20052011\n",
       "11607        4968\n",
       "8892         2020\n",
       "2530         2020\n",
       "9600         2020\n",
       "           ...   \n",
       "7920         1916\n",
       "6751         1914\n",
       "14556        1912\n",
       "2085         1912\n",
       "13288        1910\n",
       "Name: HouseYear, Length: 10000, dtype: int64"
      ]
     },
     "execution_count": 29,
     "metadata": {},
     "output_type": "execute_result"
    }
   ],
   "source": [
    "data_train['HouseYear'].sort_values(ascending=False)"
   ]
  },
  {
   "cell_type": "code",
   "execution_count": 30,
   "id": "f16a78f6",
   "metadata": {},
   "outputs": [],
   "source": [
    "# приравниваем любую дату больше 2020 года к 2020 году\n",
    "data_train.loc[data_train['HouseYear'] > 2020, 'HouseYear'] = 2020"
   ]
  },
  {
   "cell_type": "code",
   "execution_count": 31,
   "id": "e76d4d50",
   "metadata": {},
   "outputs": [
    {
     "data": {
      "text/plain": [
       "Id\n",
       "8892     2020\n",
       "2530     2020\n",
       "9600     2020\n",
       "14664    2020\n",
       "6731     2020\n",
       "         ... \n",
       "7920     1916\n",
       "6751     1914\n",
       "14556    1912\n",
       "2085     1912\n",
       "13288    1910\n",
       "Name: HouseYear, Length: 10000, dtype: int64"
      ]
     },
     "execution_count": 31,
     "metadata": {},
     "output_type": "execute_result"
    }
   ],
   "source": [
    "data_train['HouseYear'].sort_values(ascending=False)"
   ]
  },
  {
   "cell_type": "markdown",
   "id": "2e135d07",
   "metadata": {},
   "source": [
    "#### Проработка данных по площади жилых и не жилых помещений, а так же площади кухни"
   ]
  },
  {
   "cell_type": "code",
   "execution_count": 32,
   "id": "d6bca469",
   "metadata": {},
   "outputs": [
    {
     "data": {
      "text/plain": [
       "1.0       2460\n",
       "8.0       1306\n",
       "5.0       1169\n",
       "10.0      1075\n",
       "6.0       1038\n",
       "9.0        843\n",
       "0.0        697\n",
       "7.0        609\n",
       "12.0       249\n",
       "11.0       233\n",
       "13.0        67\n",
       "14.0        51\n",
       "4.0         39\n",
       "15.0        31\n",
       "3.0         22\n",
       "16.0        16\n",
       "20.0        14\n",
       "17.0        12\n",
       "19.0        11\n",
       "18.0         6\n",
       "2.0          4\n",
       "22.0         3\n",
       "30.0         2\n",
       "43.0         2\n",
       "41.0         2\n",
       "112.0        2\n",
       "25.0         2\n",
       "51.0         2\n",
       "37.0         2\n",
       "58.0         2\n",
       "32.0         2\n",
       "21.0         1\n",
       "73.0         1\n",
       "75.0         1\n",
       "36.0         1\n",
       "27.0         1\n",
       "63.0         1\n",
       "1970.0       1\n",
       "54.0         1\n",
       "53.0         1\n",
       "60.0         1\n",
       "26.0         1\n",
       "66.0         1\n",
       "39.0         1\n",
       "29.0         1\n",
       "78.0         1\n",
       "31.0         1\n",
       "84.0         1\n",
       "48.0         1\n",
       "96.0         1\n",
       "42.0         1\n",
       "40.0         1\n",
       "23.0         1\n",
       "72.0         1\n",
       "35.0         1\n",
       "62.0         1\n",
       "123.0        1\n",
       "2014.0       1\n",
       "Name: KitchenSquare, dtype: int64"
      ]
     },
     "execution_count": 32,
     "metadata": {},
     "output_type": "execute_result"
    }
   ],
   "source": [
    "data_train['KitchenSquare'].value_counts()"
   ]
  },
  {
   "cell_type": "code",
   "execution_count": 33,
   "id": "a266a04f",
   "metadata": {},
   "outputs": [
    {
     "data": {
      "text/plain": [
       "(13.0, 0.0)"
      ]
     },
     "execution_count": 33,
     "metadata": {},
     "output_type": "execute_result"
    }
   ],
   "source": [
    "data_train['KitchenSquare'].quantile(.975), data_train['KitchenSquare'].quantile(.025)"
   ]
  },
  {
   "cell_type": "code",
   "execution_count": 34,
   "id": "298a5026",
   "metadata": {},
   "outputs": [],
   "source": [
    "kitch_squad_med = data_train['KitchenSquare'].median()\n",
    "condition = (data_train['KitchenSquare'].isna()) | (data_train['KitchenSquare'] > data_train['KitchenSquare'].quantile(.975))\n",
    "data_train.loc[condition, 'KitchenSquare'] = kitch_squad_med\n",
    "data_train.loc[data_train['KitchenSquare'] < 5, 'KitchenSquare'] = 5"
   ]
  },
  {
   "cell_type": "code",
   "execution_count": 35,
   "id": "f20aa05a",
   "metadata": {},
   "outputs": [
    {
     "data": {
      "text/plain": [
       "5.0     4391\n",
       "8.0     1306\n",
       "6.0     1227\n",
       "10.0    1075\n",
       "9.0      843\n",
       "7.0      609\n",
       "12.0     249\n",
       "11.0     233\n",
       "13.0      67\n",
       "Name: KitchenSquare, dtype: int64"
      ]
     },
     "execution_count": 35,
     "metadata": {},
     "output_type": "execute_result"
    }
   ],
   "source": [
    "data_train['KitchenSquare'].value_counts()"
   ]
  },
  {
   "cell_type": "markdown",
   "id": "b9051de7",
   "metadata": {},
   "source": [
    "#### Проработка нулевых значений "
   ]
  },
  {
   "cell_type": "code",
   "execution_count": 36,
   "id": "7951b537",
   "metadata": {},
   "outputs": [
    {
     "data": {
      "text/plain": [
       "DistrictId          0\n",
       "Rooms               0\n",
       "Square              0\n",
       "LifeSquare       2113\n",
       "KitchenSquare       0\n",
       "Floor               0\n",
       "HouseFloor          0\n",
       "HouseYear           0\n",
       "Ecology_1           0\n",
       "Ecology_2           0\n",
       "Ecology_3           0\n",
       "Social_1            0\n",
       "Social_2            0\n",
       "Social_3            0\n",
       "Healthcare_1     4798\n",
       "Helthcare_2         0\n",
       "Shops_1             0\n",
       "Shops_2             0\n",
       "Price               0\n",
       "dtype: int64"
      ]
     },
     "execution_count": 36,
     "metadata": {},
     "output_type": "execute_result"
    }
   ],
   "source": [
    "data_train.isna().sum()"
   ]
  },
  {
   "cell_type": "markdown",
   "id": "83b47475",
   "metadata": {},
   "source": [
    "#### Отметим что в колнках LifeSquare и Healthcare_1 есть нулевые значения. Заполним их, что бы не потреять данные и использовать для построения модели."
   ]
  },
  {
   "cell_type": "code",
   "execution_count": 37,
   "id": "03a649b2",
   "metadata": {},
   "outputs": [
    {
     "data": {
      "text/html": [
       "<div>\n",
       "<style scoped>\n",
       "    .dataframe tbody tr th:only-of-type {\n",
       "        vertical-align: middle;\n",
       "    }\n",
       "\n",
       "    .dataframe tbody tr th {\n",
       "        vertical-align: top;\n",
       "    }\n",
       "\n",
       "    .dataframe thead th {\n",
       "        text-align: right;\n",
       "    }\n",
       "</style>\n",
       "<table border=\"1\" class=\"dataframe\">\n",
       "  <thead>\n",
       "    <tr style=\"text-align: right;\">\n",
       "      <th></th>\n",
       "      <th>Square</th>\n",
       "      <th>LifeSquare</th>\n",
       "      <th>KitchenSquare</th>\n",
       "    </tr>\n",
       "    <tr>\n",
       "      <th>Id</th>\n",
       "      <th></th>\n",
       "      <th></th>\n",
       "      <th></th>\n",
       "    </tr>\n",
       "  </thead>\n",
       "  <tbody>\n",
       "    <tr>\n",
       "      <th>11809</th>\n",
       "      <td>115.027311</td>\n",
       "      <td>NaN</td>\n",
       "      <td>10.0</td>\n",
       "    </tr>\n",
       "    <tr>\n",
       "      <th>3013</th>\n",
       "      <td>39.832524</td>\n",
       "      <td>23.169223</td>\n",
       "      <td>8.0</td>\n",
       "    </tr>\n",
       "    <tr>\n",
       "      <th>8215</th>\n",
       "      <td>78.342215</td>\n",
       "      <td>47.671972</td>\n",
       "      <td>10.0</td>\n",
       "    </tr>\n",
       "    <tr>\n",
       "      <th>2352</th>\n",
       "      <td>40.409907</td>\n",
       "      <td>NaN</td>\n",
       "      <td>5.0</td>\n",
       "    </tr>\n",
       "    <tr>\n",
       "      <th>13866</th>\n",
       "      <td>64.285067</td>\n",
       "      <td>38.562517</td>\n",
       "      <td>9.0</td>\n",
       "    </tr>\n",
       "    <tr>\n",
       "      <th>5804</th>\n",
       "      <td>62.528465</td>\n",
       "      <td>47.103833</td>\n",
       "      <td>6.0</td>\n",
       "    </tr>\n",
       "    <tr>\n",
       "      <th>8864</th>\n",
       "      <td>33.938750</td>\n",
       "      <td>21.772930</td>\n",
       "      <td>9.0</td>\n",
       "    </tr>\n",
       "    <tr>\n",
       "      <th>13072</th>\n",
       "      <td>50.391814</td>\n",
       "      <td>32.893256</td>\n",
       "      <td>8.0</td>\n",
       "    </tr>\n",
       "    <tr>\n",
       "      <th>9951</th>\n",
       "      <td>46.887892</td>\n",
       "      <td>44.628132</td>\n",
       "      <td>5.0</td>\n",
       "    </tr>\n",
       "    <tr>\n",
       "      <th>8094</th>\n",
       "      <td>79.867477</td>\n",
       "      <td>75.085125</td>\n",
       "      <td>5.0</td>\n",
       "    </tr>\n",
       "  </tbody>\n",
       "</table>\n",
       "</div>"
      ],
      "text/plain": [
       "           Square  LifeSquare  KitchenSquare\n",
       "Id                                          \n",
       "11809  115.027311         NaN           10.0\n",
       "3013    39.832524   23.169223            8.0\n",
       "8215    78.342215   47.671972           10.0\n",
       "2352    40.409907         NaN            5.0\n",
       "13866   64.285067   38.562517            9.0\n",
       "5804    62.528465   47.103833            6.0\n",
       "8864    33.938750   21.772930            9.0\n",
       "13072   50.391814   32.893256            8.0\n",
       "9951    46.887892   44.628132            5.0\n",
       "8094    79.867477   75.085125            5.0"
      ]
     },
     "execution_count": 37,
     "metadata": {},
     "output_type": "execute_result"
    }
   ],
   "source": [
    "data_train[['Square', 'LifeSquare', 'KitchenSquare']].head(10)"
   ]
  },
  {
   "cell_type": "code",
   "execution_count": 38,
   "id": "74cf7d3d",
   "metadata": {},
   "outputs": [
    {
     "data": {
      "text/plain": [
       "2113"
      ]
     },
     "execution_count": 38,
     "metadata": {},
     "output_type": "execute_result"
    }
   ],
   "source": [
    "data_train['LifeSquare_nan'] = data_train['LifeSquare'].isna() * 1\n",
    "\n",
    "condition = (data_train['LifeSquare'].isna()) & (~data_train['Square'].isna()) & (~data_train['KitchenSquare'].isna())\n",
    "condition.sum()"
   ]
  },
  {
   "cell_type": "code",
   "execution_count": 39,
   "id": "513d1d07",
   "metadata": {},
   "outputs": [],
   "source": [
    "data_train.loc[condition, 'LifeSquare'] = data_train.loc[condition, 'Square'] - data_train.loc[condition, 'KitchenSquare'] - 3"
   ]
  },
  {
   "cell_type": "code",
   "execution_count": 40,
   "id": "5ab45e1d",
   "metadata": {},
   "outputs": [
    {
     "data": {
      "text/plain": [
       "0"
      ]
     },
     "execution_count": 40,
     "metadata": {},
     "output_type": "execute_result"
    }
   ],
   "source": [
    "data_train['LifeSquare_nan'] = data_train['LifeSquare'].isna() * 1\n",
    "\n",
    "condition = (data_train['LifeSquare'].isna()) & (~data_train['Square'].isna()) & (~data_train['KitchenSquare'].isna())\n",
    "condition.sum()"
   ]
  },
  {
   "cell_type": "code",
   "execution_count": 41,
   "id": "0742dbe5",
   "metadata": {},
   "outputs": [
    {
     "data": {
      "text/plain": [
       "0.0         1\n",
       "30.0      348\n",
       "32.0       12\n",
       "35.0        2\n",
       "46.0       49\n",
       "         ... \n",
       "4087.0     45\n",
       "4129.0     37\n",
       "4508.0     46\n",
       "4702.0     27\n",
       "4849.0     15\n",
       "Name: Healthcare_1, Length: 79, dtype: int64"
      ]
     },
     "execution_count": 41,
     "metadata": {},
     "output_type": "execute_result"
    }
   ],
   "source": [
    "data_train['Healthcare_1'].value_counts().sort_index()"
   ]
  },
  {
   "cell_type": "code",
   "execution_count": 42,
   "id": "c51b62ff",
   "metadata": {},
   "outputs": [],
   "source": [
    "data_train['Healthcare_1'].fillna(0, inplace=True)"
   ]
  },
  {
   "cell_type": "code",
   "execution_count": null,
   "id": "c680761b",
   "metadata": {},
   "outputs": [],
   "source": []
  },
  {
   "cell_type": "code",
   "execution_count": 30,
   "id": "9689c17c",
   "metadata": {},
   "outputs": [],
   "source": [
    "#life_out = data_train.loc[data_train['LifeSquare'] > data_train['Square']].index"
   ]
  },
  {
   "cell_type": "code",
   "execution_count": 31,
   "id": "41a74e6b",
   "metadata": {},
   "outputs": [],
   "source": [
    "#data_train.loc[life_out, 'LifeSquare'] = data_train.loc[life_out, 'Square']"
   ]
  },
  {
   "cell_type": "code",
   "execution_count": 32,
   "id": "86bdcc85",
   "metadata": {},
   "outputs": [],
   "source": [
    "#kitch_out = data_train.loc[data_train['KitchenSquare'] > data_train['LifeSquare']].index"
   ]
  },
  {
   "cell_type": "code",
   "execution_count": 33,
   "id": "f09de35c",
   "metadata": {},
   "outputs": [],
   "source": [
    "#data_train.loc[kitch_out, 'KitchenSquare'] = data_train.loc[kitch_out, 'LifeSquare'].median()"
   ]
  },
  {
   "cell_type": "code",
   "execution_count": null,
   "id": "7c9ccf72",
   "metadata": {},
   "outputs": [],
   "source": []
  },
  {
   "cell_type": "code",
   "execution_count": 43,
   "id": "2e0829f6",
   "metadata": {},
   "outputs": [
    {
     "data": {
      "text/plain": [
       "(10000, 20)"
      ]
     },
     "execution_count": 43,
     "metadata": {},
     "output_type": "execute_result"
    }
   ],
   "source": [
    "# Проверяю былили потеряные данные\n",
    "data_train.shape"
   ]
  },
  {
   "cell_type": "code",
   "execution_count": 44,
   "id": "fa187a6b",
   "metadata": {},
   "outputs": [
    {
     "data": {
      "text/plain": [
       "<function matplotlib.pyplot.show(close=None, block=None)>"
      ]
     },
     "execution_count": 44,
     "metadata": {},
     "output_type": "execute_result"
    },
    {
     "data": {
      "image/png": "[encoded data removed]",
      "text/plain": [
       "<Figure size 1152x720 with 2 Axes>"
      ]
     },
     "metadata": {},
     "output_type": "display_data"
    }
   ],
   "source": [
    "plt.figure(figsize=(16, 10))\n",
    "sns.heatmap(data_train.corr(), mask=False , annot=True, annot_kws={'size': 11})\n",
    "sns.set_style('white')\n",
    "plt.xticks(fontsize=14)\n",
    "plt.yticks(fontsize=14)\n",
    "plt.show"
   ]
  },
  {
   "cell_type": "markdown",
   "id": "771a1bb4",
   "metadata": {},
   "source": [
    "#### Проработка выбросов с этажами"
   ]
  },
  {
   "cell_type": "code",
   "execution_count": 45,
   "id": "18d28364",
   "metadata": {},
   "outputs": [
    {
     "data": {
      "text/plain": [
       "array([ 1,  2,  3,  4,  5,  6,  7,  8,  9, 10, 11, 12, 13, 14, 15, 16, 17,\n",
       "       18, 19, 20, 21, 22, 23, 24, 25, 26, 27, 28, 31, 32, 33, 37, 42],\n",
       "      dtype=int64)"
      ]
     },
     "execution_count": 45,
     "metadata": {},
     "output_type": "execute_result"
    }
   ],
   "source": [
    "data_train['Floor'].sort_values().unique()"
   ]
  },
  {
   "cell_type": "code",
   "execution_count": 46,
   "id": "99d000db",
   "metadata": {},
   "outputs": [
    {
     "data": {
      "text/plain": [
       "array([  0.,   1.,   2.,   3.,   4.,   5.,   6.,   7.,   8.,   9.,  10.,\n",
       "        11.,  12.,  13.,  14.,  15.,  16.,  17.,  18.,  19.,  20.,  21.,\n",
       "        22.,  23.,  24.,  25.,  26.,  27.,  28.,  29.,  30.,  31.,  32.,\n",
       "        36.,  37.,  38.,  39.,  40.,  44.,  45.,  47.,  48.,  99., 117.])"
      ]
     },
     "execution_count": 46,
     "metadata": {},
     "output_type": "execute_result"
    }
   ],
   "source": [
    "data_train['HouseFloor'].sort_values().unique()"
   ]
  },
  {
   "cell_type": "code",
   "execution_count": 47,
   "id": "b66a0552",
   "metadata": {},
   "outputs": [],
   "source": [
    "data_train.loc[data_train['HouseFloor'] == 0, 'HouseFloor'] = 1"
   ]
  },
  {
   "cell_type": "code",
   "execution_count": 48,
   "id": "cabdf5be",
   "metadata": {},
   "outputs": [
    {
     "data": {
      "text/plain": [
       "1818"
      ]
     },
     "execution_count": 48,
     "metadata": {},
     "output_type": "execute_result"
    }
   ],
   "source": [
    "sum(data_train['HouseFloor'] < data_train['Floor'])"
   ]
  },
  {
   "cell_type": "code",
   "execution_count": 49,
   "id": "bfc3ba8d",
   "metadata": {},
   "outputs": [],
   "source": [
    "floor_out = data_train.loc[data_train['HouseFloor'] < data_train['Floor']].index"
   ]
  },
  {
   "cell_type": "code",
   "execution_count": 50,
   "id": "cd837f24",
   "metadata": {},
   "outputs": [],
   "source": [
    "data_train.loc[floor_out, 'Floor'] = data_train.loc[floor_out, 'HouseFloor'].apply(lambda x: random.randint(1, x))"
   ]
  },
  {
   "cell_type": "code",
   "execution_count": null,
   "id": "77124303",
   "metadata": {},
   "outputs": [],
   "source": []
  },
  {
   "cell_type": "code",
   "execution_count": 51,
   "id": "ccf82184",
   "metadata": {},
   "outputs": [
    {
     "data": {
      "text/plain": [
       "0"
      ]
     },
     "execution_count": 51,
     "metadata": {},
     "output_type": "execute_result"
    }
   ],
   "source": [
    "sum(data_train['HouseFloor'] < data_train['Floor'])"
   ]
  },
  {
   "cell_type": "markdown",
   "id": "9d0b151d",
   "metadata": {},
   "source": [
    "#### Подготовка исходных данных создаем новый класс"
   ]
  },
  {
   "cell_type": "code",
   "execution_count": 52,
   "id": "1b6fc5ae",
   "metadata": {},
   "outputs": [],
   "source": [
    "class Preproc:\n",
    "    def __init__(self):\n",
    "        self.medians = None\n",
    "        self.kitchen_square_quantile = None\n",
    "    \n",
    "    def fit_p(self, X):\n",
    "        self.medians = X.median()\n",
    "        self.kitchen_square_quantile = X['KitchenSquare'].quantile(.975)\n",
    "    \n",
    "    def transform_p(self, X):\n",
    "        #rooms\n",
    "        \n",
    "        X.loc[X['Rooms'] == 0, 'Rooms'] == 1\n",
    "        X.loc[X['Rooms'] > 5, 'Rooms'] = self.medians['Rooms']\n",
    "        \n",
    "        # Square\n",
    "        X.loc[X['Square'] > 300, 'Square'] = self.medians['Square']\n",
    "        X.loc[X['Square'] < 20, 'Square'] = self.medians['Square']\n",
    "        \n",
    "        # LifeSquare\n",
    "        X.loc[X['LifeSquare'] <= 0, 'LifeSquare'] = self.medians['LifeSquare']\n",
    "        \n",
    "        X['LifeSquare_nan'] = X['LifeSquare'].isna() * 1\n",
    "        condition = (X['LifeSquare'].isna()) & \\\n",
    "                      (~X['Square'].isna()) & \\\n",
    "                      (~X['KitchenSquare'].isna())\n",
    "        \n",
    "        X.loc[condition, 'LifeSquare'] = X.loc[condition, 'Square'] - X.loc[condition, 'KitchenSquare'] - 3\n",
    "        \n",
    "        condition = X['LifeSquare'] > X['Square']\n",
    "        X.loc[condition, 'LifeSquare'] = X.loc[condition, 'Square'] \\\n",
    "                                            - X.loc[condition, 'KitchenSquare'] - 3\n",
    "        X.fillna(self.medians, inplace=True)\n",
    "        \n",
    "        #KitchenSquare\n",
    "        \n",
    "        condition = (X['KitchenSquare'].isna()) | (X['KitchenSquare'] > self.kitchen_square_quantile)\n",
    "        X.loc[condition, 'KitchenSquare'] = self.medians['KitchenSquare']\n",
    "        X.loc[X['KitchenSquare'] < 5, 'KitchenSquare'] = 5\n",
    "        \n",
    "        # HouseFloor, Floor\n",
    "        X['HouseFloor_outlier'] = 0\n",
    "        X.loc[X['HouseFloor'] == 0, 'HouseFloor_outlier'] = 1\n",
    "        X.loc[X['Floor'] > X['HouseFloor'], 'HouseFloor_outlier'] = 1\n",
    "        \n",
    "        X.loc[X['HouseFloor'] == 0, 'HouseFloor'] = self.medians['HouseFloor']\n",
    "        \n",
    "        floor_outliers = X.loc[X['Floor'] > X['HouseFloor']].index\n",
    "        X.loc[floor_outliers, 'Floor'] = X.loc[floor_outliers, 'HouseFloor']\\\n",
    "                                            .apply(lambda x: random.randint(1, x))\n",
    "        \n",
    "        #houseyear\n",
    "        \n",
    "        X.loc[X['HouseYear'] > 2020, 'HouseYear'] = 2020\n",
    "        \n",
    "                \n",
    "        # Healthcare_1\n",
    "        X['Healthcare_1'].fillna(0, inplace=True)\n",
    "        \n",
    "        # Меняем буквнные признаки, на численные.\n",
    "        \n",
    "        binary_to_number = {'A': 0, 'B': 1}\n",
    "        X['Ecology_2'] = X['Ecology_2'].replace(binary_to_number)\n",
    "        X['Ecology_3'] = X['Ecology_3'].replace(binary_to_number)\n",
    "        X['Shops_2'] = X['Shops_2'].replace(binary_to_number)\n",
    "        \n",
    "        return X\n",
    "\n"
   ]
  },
  {
   "cell_type": "code",
   "execution_count": null,
   "id": "1cebc0fe",
   "metadata": {},
   "outputs": [],
   "source": []
  },
  {
   "cell_type": "markdown",
   "id": "a930f830",
   "metadata": {},
   "source": [
    "### Создаем новые признаки "
   ]
  },
  {
   "cell_type": "markdown",
   "id": "12b8338a",
   "metadata": {},
   "source": [
    "#### Меняем буквнные признаки, на численные. Так как есть возможность использовать бинарную систему воспользуемся этим. "
   ]
  },
  {
   "cell_type": "code",
   "execution_count": 53,
   "id": "636143c2",
   "metadata": {},
   "outputs": [],
   "source": [
    "binary_to_number = {'A': 0, 'B': 1}\n",
    "data_train['Ecology_2'] = data_train['Ecology_2'].replace(binary_to_number)\n",
    "data_train['Ecology_3'] = data_train['Ecology_3'].replace(binary_to_number)\n",
    "data_train['Shops_2'] = data_train['Shops_2'].replace(binary_to_number)"
   ]
  },
  {
   "cell_type": "code",
   "execution_count": null,
   "id": "b4b5dbe2",
   "metadata": {},
   "outputs": [],
   "source": []
  },
  {
   "cell_type": "code",
   "execution_count": null,
   "id": "bfe862ee",
   "metadata": {},
   "outputs": [],
   "source": []
  },
  {
   "cell_type": "code",
   "execution_count": 54,
   "id": "e45089ad",
   "metadata": {},
   "outputs": [
    {
     "data": {
      "text/html": [
       "<div>\n",
       "<style scoped>\n",
       "    .dataframe tbody tr th:only-of-type {\n",
       "        vertical-align: middle;\n",
       "    }\n",
       "\n",
       "    .dataframe tbody tr th {\n",
       "        vertical-align: top;\n",
       "    }\n",
       "\n",
       "    .dataframe thead th {\n",
       "        text-align: right;\n",
       "    }\n",
       "</style>\n",
       "<table border=\"1\" class=\"dataframe\">\n",
       "  <thead>\n",
       "    <tr style=\"text-align: right;\">\n",
       "      <th></th>\n",
       "      <th>count</th>\n",
       "      <th>mean</th>\n",
       "      <th>std</th>\n",
       "      <th>min</th>\n",
       "      <th>25%</th>\n",
       "      <th>50%</th>\n",
       "      <th>75%</th>\n",
       "      <th>max</th>\n",
       "    </tr>\n",
       "  </thead>\n",
       "  <tbody>\n",
       "    <tr>\n",
       "      <th>DistrictId</th>\n",
       "      <td>5000.0</td>\n",
       "      <td>51.279200</td>\n",
       "      <td>44.179466</td>\n",
       "      <td>0.000000</td>\n",
       "      <td>21.000000</td>\n",
       "      <td>37.000000</td>\n",
       "      <td>77.000000</td>\n",
       "      <td>212.000000</td>\n",
       "    </tr>\n",
       "    <tr>\n",
       "      <th>Rooms</th>\n",
       "      <td>5000.0</td>\n",
       "      <td>1.910000</td>\n",
       "      <td>0.838594</td>\n",
       "      <td>0.000000</td>\n",
       "      <td>1.000000</td>\n",
       "      <td>2.000000</td>\n",
       "      <td>2.000000</td>\n",
       "      <td>17.000000</td>\n",
       "    </tr>\n",
       "    <tr>\n",
       "      <th>Square</th>\n",
       "      <td>5000.0</td>\n",
       "      <td>56.449500</td>\n",
       "      <td>19.092787</td>\n",
       "      <td>1.378543</td>\n",
       "      <td>41.906231</td>\n",
       "      <td>52.921340</td>\n",
       "      <td>66.285129</td>\n",
       "      <td>223.453689</td>\n",
       "    </tr>\n",
       "    <tr>\n",
       "      <th>LifeSquare</th>\n",
       "      <td>3959.0</td>\n",
       "      <td>36.158810</td>\n",
       "      <td>17.825287</td>\n",
       "      <td>0.333490</td>\n",
       "      <td>23.092026</td>\n",
       "      <td>32.925087</td>\n",
       "      <td>45.174091</td>\n",
       "      <td>303.071094</td>\n",
       "    </tr>\n",
       "    <tr>\n",
       "      <th>KitchenSquare</th>\n",
       "      <td>5000.0</td>\n",
       "      <td>5.976800</td>\n",
       "      <td>9.950018</td>\n",
       "      <td>0.000000</td>\n",
       "      <td>1.000000</td>\n",
       "      <td>6.000000</td>\n",
       "      <td>9.000000</td>\n",
       "      <td>620.000000</td>\n",
       "    </tr>\n",
       "    <tr>\n",
       "      <th>Floor</th>\n",
       "      <td>5000.0</td>\n",
       "      <td>8.632000</td>\n",
       "      <td>5.483228</td>\n",
       "      <td>1.000000</td>\n",
       "      <td>4.000000</td>\n",
       "      <td>7.000000</td>\n",
       "      <td>12.000000</td>\n",
       "      <td>78.000000</td>\n",
       "    </tr>\n",
       "    <tr>\n",
       "      <th>HouseFloor</th>\n",
       "      <td>5000.0</td>\n",
       "      <td>12.601000</td>\n",
       "      <td>6.789213</td>\n",
       "      <td>0.000000</td>\n",
       "      <td>9.000000</td>\n",
       "      <td>12.000000</td>\n",
       "      <td>17.000000</td>\n",
       "      <td>99.000000</td>\n",
       "    </tr>\n",
       "    <tr>\n",
       "      <th>HouseYear</th>\n",
       "      <td>5000.0</td>\n",
       "      <td>1984.392600</td>\n",
       "      <td>18.573149</td>\n",
       "      <td>1908.000000</td>\n",
       "      <td>1973.000000</td>\n",
       "      <td>1977.000000</td>\n",
       "      <td>2000.000000</td>\n",
       "      <td>2020.000000</td>\n",
       "    </tr>\n",
       "    <tr>\n",
       "      <th>Ecology_1</th>\n",
       "      <td>5000.0</td>\n",
       "      <td>0.119874</td>\n",
       "      <td>0.120070</td>\n",
       "      <td>0.000000</td>\n",
       "      <td>0.019509</td>\n",
       "      <td>0.072158</td>\n",
       "      <td>0.195781</td>\n",
       "      <td>0.521867</td>\n",
       "    </tr>\n",
       "    <tr>\n",
       "      <th>Social_1</th>\n",
       "      <td>5000.0</td>\n",
       "      <td>24.933800</td>\n",
       "      <td>17.532202</td>\n",
       "      <td>0.000000</td>\n",
       "      <td>6.000000</td>\n",
       "      <td>25.000000</td>\n",
       "      <td>36.000000</td>\n",
       "      <td>74.000000</td>\n",
       "    </tr>\n",
       "    <tr>\n",
       "      <th>Social_2</th>\n",
       "      <td>5000.0</td>\n",
       "      <td>5406.900000</td>\n",
       "      <td>4026.614773</td>\n",
       "      <td>168.000000</td>\n",
       "      <td>1564.000000</td>\n",
       "      <td>5285.000000</td>\n",
       "      <td>7287.000000</td>\n",
       "      <td>19083.000000</td>\n",
       "    </tr>\n",
       "    <tr>\n",
       "      <th>Social_3</th>\n",
       "      <td>5000.0</td>\n",
       "      <td>8.262600</td>\n",
       "      <td>23.863762</td>\n",
       "      <td>0.000000</td>\n",
       "      <td>0.000000</td>\n",
       "      <td>2.000000</td>\n",
       "      <td>5.000000</td>\n",
       "      <td>141.000000</td>\n",
       "    </tr>\n",
       "    <tr>\n",
       "      <th>Healthcare_1</th>\n",
       "      <td>2623.0</td>\n",
       "      <td>1146.657263</td>\n",
       "      <td>1044.744231</td>\n",
       "      <td>0.000000</td>\n",
       "      <td>325.000000</td>\n",
       "      <td>900.000000</td>\n",
       "      <td>1548.000000</td>\n",
       "      <td>4849.000000</td>\n",
       "    </tr>\n",
       "    <tr>\n",
       "      <th>Helthcare_2</th>\n",
       "      <td>5000.0</td>\n",
       "      <td>1.319400</td>\n",
       "      <td>1.479940</td>\n",
       "      <td>0.000000</td>\n",
       "      <td>0.000000</td>\n",
       "      <td>1.000000</td>\n",
       "      <td>2.000000</td>\n",
       "      <td>6.000000</td>\n",
       "    </tr>\n",
       "    <tr>\n",
       "      <th>Shops_1</th>\n",
       "      <td>5000.0</td>\n",
       "      <td>4.242800</td>\n",
       "      <td>4.777365</td>\n",
       "      <td>0.000000</td>\n",
       "      <td>1.000000</td>\n",
       "      <td>3.000000</td>\n",
       "      <td>6.000000</td>\n",
       "      <td>23.000000</td>\n",
       "    </tr>\n",
       "  </tbody>\n",
       "</table>\n",
       "</div>"
      ],
      "text/plain": [
       "                count         mean          std          min          25%  \\\n",
       "DistrictId     5000.0    51.279200    44.179466     0.000000    21.000000   \n",
       "Rooms          5000.0     1.910000     0.838594     0.000000     1.000000   \n",
       "Square         5000.0    56.449500    19.092787     1.378543    41.906231   \n",
       "LifeSquare     3959.0    36.158810    17.825287     0.333490    23.092026   \n",
       "KitchenSquare  5000.0     5.976800     9.950018     0.000000     1.000000   \n",
       "Floor          5000.0     8.632000     5.483228     1.000000     4.000000   \n",
       "HouseFloor     5000.0    12.601000     6.789213     0.000000     9.000000   \n",
       "HouseYear      5000.0  1984.392600    18.573149  1908.000000  1973.000000   \n",
       "Ecology_1      5000.0     0.119874     0.120070     0.000000     0.019509   \n",
       "Social_1       5000.0    24.933800    17.532202     0.000000     6.000000   \n",
       "Social_2       5000.0  5406.900000  4026.614773   168.000000  1564.000000   \n",
       "Social_3       5000.0     8.262600    23.863762     0.000000     0.000000   \n",
       "Healthcare_1   2623.0  1146.657263  1044.744231     0.000000   325.000000   \n",
       "Helthcare_2    5000.0     1.319400     1.479940     0.000000     0.000000   \n",
       "Shops_1        5000.0     4.242800     4.777365     0.000000     1.000000   \n",
       "\n",
       "                       50%          75%           max  \n",
       "DistrictId       37.000000    77.000000    212.000000  \n",
       "Rooms             2.000000     2.000000     17.000000  \n",
       "Square           52.921340    66.285129    223.453689  \n",
       "LifeSquare       32.925087    45.174091    303.071094  \n",
       "KitchenSquare     6.000000     9.000000    620.000000  \n",
       "Floor             7.000000    12.000000     78.000000  \n",
       "HouseFloor       12.000000    17.000000     99.000000  \n",
       "HouseYear      1977.000000  2000.000000   2020.000000  \n",
       "Ecology_1         0.072158     0.195781      0.521867  \n",
       "Social_1         25.000000    36.000000     74.000000  \n",
       "Social_2       5285.000000  7287.000000  19083.000000  \n",
       "Social_3          2.000000     5.000000    141.000000  \n",
       "Healthcare_1    900.000000  1548.000000   4849.000000  \n",
       "Helthcare_2       1.000000     2.000000      6.000000  \n",
       "Shops_1           3.000000     6.000000     23.000000  "
      ]
     },
     "execution_count": 54,
     "metadata": {},
     "output_type": "execute_result"
    }
   ],
   "source": [
    "data_test.describe().T"
   ]
  },
  {
   "cell_type": "code",
   "execution_count": null,
   "id": "dc199ebd",
   "metadata": {},
   "outputs": [],
   "source": []
  },
  {
   "cell_type": "code",
   "execution_count": 55,
   "id": "39500dd4",
   "metadata": {},
   "outputs": [
    {
     "data": {
      "text/html": [
       "<div>\n",
       "<style scoped>\n",
       "    .dataframe tbody tr th:only-of-type {\n",
       "        vertical-align: middle;\n",
       "    }\n",
       "\n",
       "    .dataframe tbody tr th {\n",
       "        vertical-align: top;\n",
       "    }\n",
       "\n",
       "    .dataframe thead th {\n",
       "        text-align: right;\n",
       "    }\n",
       "</style>\n",
       "<table border=\"1\" class=\"dataframe\">\n",
       "  <thead>\n",
       "    <tr style=\"text-align: right;\">\n",
       "      <th></th>\n",
       "      <th>DistrictId</th>\n",
       "      <th>Rooms</th>\n",
       "      <th>Square</th>\n",
       "      <th>LifeSquare</th>\n",
       "      <th>KitchenSquare</th>\n",
       "      <th>Floor</th>\n",
       "      <th>HouseFloor</th>\n",
       "      <th>HouseYear</th>\n",
       "      <th>Ecology_1</th>\n",
       "      <th>Ecology_2</th>\n",
       "      <th>Ecology_3</th>\n",
       "      <th>Social_1</th>\n",
       "      <th>Social_2</th>\n",
       "      <th>Social_3</th>\n",
       "      <th>Healthcare_1</th>\n",
       "      <th>Helthcare_2</th>\n",
       "      <th>Shops_1</th>\n",
       "      <th>Shops_2</th>\n",
       "      <th>Price</th>\n",
       "      <th>LifeSquare_nan</th>\n",
       "    </tr>\n",
       "    <tr>\n",
       "      <th>Id</th>\n",
       "      <th></th>\n",
       "      <th></th>\n",
       "      <th></th>\n",
       "      <th></th>\n",
       "      <th></th>\n",
       "      <th></th>\n",
       "      <th></th>\n",
       "      <th></th>\n",
       "      <th></th>\n",
       "      <th></th>\n",
       "      <th></th>\n",
       "      <th></th>\n",
       "      <th></th>\n",
       "      <th></th>\n",
       "      <th></th>\n",
       "      <th></th>\n",
       "      <th></th>\n",
       "      <th></th>\n",
       "      <th></th>\n",
       "      <th></th>\n",
       "    </tr>\n",
       "  </thead>\n",
       "  <tbody>\n",
       "    <tr>\n",
       "      <th>11809</th>\n",
       "      <td>27</td>\n",
       "      <td>3.0</td>\n",
       "      <td>115.027311</td>\n",
       "      <td>102.027311</td>\n",
       "      <td>10.0</td>\n",
       "      <td>4</td>\n",
       "      <td>10.0</td>\n",
       "      <td>2014</td>\n",
       "      <td>0.075424</td>\n",
       "      <td>1</td>\n",
       "      <td>1</td>\n",
       "      <td>11</td>\n",
       "      <td>3097</td>\n",
       "      <td>0</td>\n",
       "      <td>0.0</td>\n",
       "      <td>0</td>\n",
       "      <td>0</td>\n",
       "      <td>1</td>\n",
       "      <td>305018.871089</td>\n",
       "      <td>0</td>\n",
       "    </tr>\n",
       "    <tr>\n",
       "      <th>3013</th>\n",
       "      <td>22</td>\n",
       "      <td>1.0</td>\n",
       "      <td>39.832524</td>\n",
       "      <td>23.169223</td>\n",
       "      <td>8.0</td>\n",
       "      <td>7</td>\n",
       "      <td>8.0</td>\n",
       "      <td>1966</td>\n",
       "      <td>0.118537</td>\n",
       "      <td>1</td>\n",
       "      <td>1</td>\n",
       "      <td>30</td>\n",
       "      <td>6207</td>\n",
       "      <td>1</td>\n",
       "      <td>1183.0</td>\n",
       "      <td>1</td>\n",
       "      <td>0</td>\n",
       "      <td>1</td>\n",
       "      <td>177734.553407</td>\n",
       "      <td>0</td>\n",
       "    </tr>\n",
       "    <tr>\n",
       "      <th>8215</th>\n",
       "      <td>1</td>\n",
       "      <td>3.0</td>\n",
       "      <td>78.342215</td>\n",
       "      <td>47.671972</td>\n",
       "      <td>10.0</td>\n",
       "      <td>2</td>\n",
       "      <td>17.0</td>\n",
       "      <td>1988</td>\n",
       "      <td>0.025609</td>\n",
       "      <td>1</td>\n",
       "      <td>1</td>\n",
       "      <td>33</td>\n",
       "      <td>5261</td>\n",
       "      <td>0</td>\n",
       "      <td>240.0</td>\n",
       "      <td>3</td>\n",
       "      <td>1</td>\n",
       "      <td>1</td>\n",
       "      <td>282078.720850</td>\n",
       "      <td>0</td>\n",
       "    </tr>\n",
       "    <tr>\n",
       "      <th>2352</th>\n",
       "      <td>1</td>\n",
       "      <td>1.0</td>\n",
       "      <td>40.409907</td>\n",
       "      <td>32.409907</td>\n",
       "      <td>5.0</td>\n",
       "      <td>10</td>\n",
       "      <td>22.0</td>\n",
       "      <td>1977</td>\n",
       "      <td>0.007122</td>\n",
       "      <td>1</td>\n",
       "      <td>1</td>\n",
       "      <td>1</td>\n",
       "      <td>264</td>\n",
       "      <td>0</td>\n",
       "      <td>0.0</td>\n",
       "      <td>0</td>\n",
       "      <td>1</td>\n",
       "      <td>1</td>\n",
       "      <td>168106.007630</td>\n",
       "      <td>0</td>\n",
       "    </tr>\n",
       "    <tr>\n",
       "      <th>13866</th>\n",
       "      <td>94</td>\n",
       "      <td>2.0</td>\n",
       "      <td>64.285067</td>\n",
       "      <td>38.562517</td>\n",
       "      <td>9.0</td>\n",
       "      <td>16</td>\n",
       "      <td>16.0</td>\n",
       "      <td>1972</td>\n",
       "      <td>0.282798</td>\n",
       "      <td>1</td>\n",
       "      <td>1</td>\n",
       "      <td>33</td>\n",
       "      <td>8667</td>\n",
       "      <td>2</td>\n",
       "      <td>0.0</td>\n",
       "      <td>0</td>\n",
       "      <td>6</td>\n",
       "      <td>1</td>\n",
       "      <td>343995.102962</td>\n",
       "      <td>0</td>\n",
       "    </tr>\n",
       "    <tr>\n",
       "      <th>...</th>\n",
       "      <td>...</td>\n",
       "      <td>...</td>\n",
       "      <td>...</td>\n",
       "      <td>...</td>\n",
       "      <td>...</td>\n",
       "      <td>...</td>\n",
       "      <td>...</td>\n",
       "      <td>...</td>\n",
       "      <td>...</td>\n",
       "      <td>...</td>\n",
       "      <td>...</td>\n",
       "      <td>...</td>\n",
       "      <td>...</td>\n",
       "      <td>...</td>\n",
       "      <td>...</td>\n",
       "      <td>...</td>\n",
       "      <td>...</td>\n",
       "      <td>...</td>\n",
       "      <td>...</td>\n",
       "      <td>...</td>\n",
       "    </tr>\n",
       "    <tr>\n",
       "      <th>1260</th>\n",
       "      <td>61</td>\n",
       "      <td>2.0</td>\n",
       "      <td>49.090728</td>\n",
       "      <td>33.272626</td>\n",
       "      <td>6.0</td>\n",
       "      <td>3</td>\n",
       "      <td>12.0</td>\n",
       "      <td>1981</td>\n",
       "      <td>0.300323</td>\n",
       "      <td>1</td>\n",
       "      <td>1</td>\n",
       "      <td>52</td>\n",
       "      <td>10311</td>\n",
       "      <td>6</td>\n",
       "      <td>0.0</td>\n",
       "      <td>1</td>\n",
       "      <td>9</td>\n",
       "      <td>1</td>\n",
       "      <td>119367.455796</td>\n",
       "      <td>0</td>\n",
       "    </tr>\n",
       "    <tr>\n",
       "      <th>16265</th>\n",
       "      <td>27</td>\n",
       "      <td>2.0</td>\n",
       "      <td>64.307684</td>\n",
       "      <td>37.038420</td>\n",
       "      <td>9.0</td>\n",
       "      <td>1</td>\n",
       "      <td>1.0</td>\n",
       "      <td>1977</td>\n",
       "      <td>0.072158</td>\n",
       "      <td>1</td>\n",
       "      <td>1</td>\n",
       "      <td>2</td>\n",
       "      <td>629</td>\n",
       "      <td>1</td>\n",
       "      <td>0.0</td>\n",
       "      <td>0</td>\n",
       "      <td>0</td>\n",
       "      <td>0</td>\n",
       "      <td>199715.148807</td>\n",
       "      <td>0</td>\n",
       "    </tr>\n",
       "    <tr>\n",
       "      <th>2795</th>\n",
       "      <td>178</td>\n",
       "      <td>1.0</td>\n",
       "      <td>29.648057</td>\n",
       "      <td>16.555363</td>\n",
       "      <td>5.0</td>\n",
       "      <td>3</td>\n",
       "      <td>5.0</td>\n",
       "      <td>1958</td>\n",
       "      <td>0.460556</td>\n",
       "      <td>1</td>\n",
       "      <td>1</td>\n",
       "      <td>20</td>\n",
       "      <td>4386</td>\n",
       "      <td>14</td>\n",
       "      <td>0.0</td>\n",
       "      <td>1</td>\n",
       "      <td>5</td>\n",
       "      <td>1</td>\n",
       "      <td>165953.912580</td>\n",
       "      <td>0</td>\n",
       "    </tr>\n",
       "    <tr>\n",
       "      <th>14561</th>\n",
       "      <td>21</td>\n",
       "      <td>1.0</td>\n",
       "      <td>32.330292</td>\n",
       "      <td>22.326870</td>\n",
       "      <td>5.0</td>\n",
       "      <td>3</td>\n",
       "      <td>9.0</td>\n",
       "      <td>1969</td>\n",
       "      <td>0.194489</td>\n",
       "      <td>1</td>\n",
       "      <td>1</td>\n",
       "      <td>47</td>\n",
       "      <td>8004</td>\n",
       "      <td>3</td>\n",
       "      <td>125.0</td>\n",
       "      <td>3</td>\n",
       "      <td>5</td>\n",
       "      <td>1</td>\n",
       "      <td>171842.411855</td>\n",
       "      <td>0</td>\n",
       "    </tr>\n",
       "    <tr>\n",
       "      <th>7202</th>\n",
       "      <td>94</td>\n",
       "      <td>1.0</td>\n",
       "      <td>35.815476</td>\n",
       "      <td>22.301367</td>\n",
       "      <td>6.0</td>\n",
       "      <td>9</td>\n",
       "      <td>9.0</td>\n",
       "      <td>1975</td>\n",
       "      <td>0.127376</td>\n",
       "      <td>1</td>\n",
       "      <td>1</td>\n",
       "      <td>43</td>\n",
       "      <td>8429</td>\n",
       "      <td>3</td>\n",
       "      <td>0.0</td>\n",
       "      <td>3</td>\n",
       "      <td>9</td>\n",
       "      <td>1</td>\n",
       "      <td>177685.627486</td>\n",
       "      <td>0</td>\n",
       "    </tr>\n",
       "  </tbody>\n",
       "</table>\n",
       "<p>10000 rows × 20 columns</p>\n",
       "</div>"
      ],
      "text/plain": [
       "      DistrictId  Rooms      Square  LifeSquare  KitchenSquare  Floor  \\\n",
       "Id                                                                      \n",
       "11809         27    3.0  115.027311  102.027311           10.0      4   \n",
       "3013          22    1.0   39.832524   23.169223            8.0      7   \n",
       "8215           1    3.0   78.342215   47.671972           10.0      2   \n",
       "2352           1    1.0   40.409907   32.409907            5.0     10   \n",
       "13866         94    2.0   64.285067   38.562517            9.0     16   \n",
       "...          ...    ...         ...         ...            ...    ...   \n",
       "1260          61    2.0   49.090728   33.272626            6.0      3   \n",
       "16265         27    2.0   64.307684   37.038420            9.0      1   \n",
       "2795         178    1.0   29.648057   16.555363            5.0      3   \n",
       "14561         21    1.0   32.330292   22.326870            5.0      3   \n",
       "7202          94    1.0   35.815476   22.301367            6.0      9   \n",
       "\n",
       "       HouseFloor  HouseYear  Ecology_1  Ecology_2  Ecology_3  Social_1  \\\n",
       "Id                                                                        \n",
       "11809        10.0       2014   0.075424          1          1        11   \n",
       "3013          8.0       1966   0.118537          1          1        30   \n",
       "8215         17.0       1988   0.025609          1          1        33   \n",
       "2352         22.0       1977   0.007122          1          1         1   \n",
       "13866        16.0       1972   0.282798          1          1        33   \n",
       "...           ...        ...        ...        ...        ...       ...   \n",
       "1260         12.0       1981   0.300323          1          1        52   \n",
       "16265         1.0       1977   0.072158          1          1         2   \n",
       "2795          5.0       1958   0.460556          1          1        20   \n",
       "14561         9.0       1969   0.194489          1          1        47   \n",
       "7202          9.0       1975   0.127376          1          1        43   \n",
       "\n",
       "       Social_2  Social_3  Healthcare_1  Helthcare_2  Shops_1  Shops_2  \\\n",
       "Id                                                                       \n",
       "11809      3097         0           0.0            0        0        1   \n",
       "3013       6207         1        1183.0            1        0        1   \n",
       "8215       5261         0         240.0            3        1        1   \n",
       "2352        264         0           0.0            0        1        1   \n",
       "13866      8667         2           0.0            0        6        1   \n",
       "...         ...       ...           ...          ...      ...      ...   \n",
       "1260      10311         6           0.0            1        9        1   \n",
       "16265       629         1           0.0            0        0        0   \n",
       "2795       4386        14           0.0            1        5        1   \n",
       "14561      8004         3         125.0            3        5        1   \n",
       "7202       8429         3           0.0            3        9        1   \n",
       "\n",
       "               Price  LifeSquare_nan  \n",
       "Id                                    \n",
       "11809  305018.871089               0  \n",
       "3013   177734.553407               0  \n",
       "8215   282078.720850               0  \n",
       "2352   168106.007630               0  \n",
       "13866  343995.102962               0  \n",
       "...              ...             ...  \n",
       "1260   119367.455796               0  \n",
       "16265  199715.148807               0  \n",
       "2795   165953.912580               0  \n",
       "14561  171842.411855               0  \n",
       "7202   177685.627486               0  \n",
       "\n",
       "[10000 rows x 20 columns]"
      ]
     },
     "execution_count": 55,
     "metadata": {},
     "output_type": "execute_result"
    }
   ],
   "source": [
    "data_train"
   ]
  },
  {
   "cell_type": "code",
   "execution_count": null,
   "id": "2b6818a4",
   "metadata": {},
   "outputs": [],
   "source": []
  },
  {
   "cell_type": "code",
   "execution_count": 296,
   "id": "866a380c",
   "metadata": {},
   "outputs": [
    {
     "data": {
      "text/plain": [
       "['DistrictId',\n",
       " 'Rooms',\n",
       " 'Square',\n",
       " 'LifeSquare',\n",
       " 'KitchenSquare',\n",
       " 'Floor',\n",
       " 'HouseFloor',\n",
       " 'HouseYear',\n",
       " 'Ecology_1',\n",
       " 'Ecology_2',\n",
       " 'Ecology_3',\n",
       " 'Social_1',\n",
       " 'Social_2',\n",
       " 'Social_3',\n",
       " 'Healthcare_1',\n",
       " 'Helthcare_2',\n",
       " 'Shops_1',\n",
       " 'Shops_2',\n",
       " 'LifeSquare_nan',\n",
       " 'HouseFloor_outlier']"
      ]
     },
     "execution_count": 296,
     "metadata": {},
     "output_type": "execute_result"
    }
   ],
   "source": [
    "data_test.columns.tolist()"
   ]
  },
  {
   "cell_type": "markdown",
   "id": "bf7e23ca",
   "metadata": {},
   "source": [
    "#### Выбор признаков и целевого показателя"
   ]
  },
  {
   "cell_type": "code",
   "execution_count": 58,
   "id": "93d4d85d",
   "metadata": {},
   "outputs": [],
   "source": [
    "feat = ['Rooms', 'Square', 'LifeSquare', 'KitchenSquare', 'Floor', 'HouseFloor', 'HouseYear', 'Social_1',\n",
    "        'Social_2', 'Social_3', 'Healthcare_1', 'Helthcare_2', 'Ecology_1', 'Ecology_2', 'Ecology_3' , 'Shops_1', 'Shops_2']\n",
    "\n",
    "target_name = 'Price'"
   ]
  },
  {
   "cell_type": "code",
   "execution_count": 59,
   "id": "f61711a7",
   "metadata": {},
   "outputs": [],
   "source": [
    "#feat = ['Rooms', 'Square', 'LifeSquare', 'KitchenSquare', 'Floor', 'HouseFloor', 'HouseYear', 'Social_1',\n",
    "#        'Social_2', 'Social_3', 'Healthcare_1', 'Helthcare_2', 'Ecology_1', 'Ecology_2', 'Ecology_3' , 'Shops_1', 'Shops_2',\n",
    "#       ]\n",
    "data_test = pd.read_csv('test.csv', index_col=0)\n",
    "data_train = pd.read_csv('train.csv', index_col=0)\n",
    "\n",
    "x = data_train.drop(columns=target_name)\n",
    "y = data_train[target_name]\n"
   ]
  },
  {
   "cell_type": "code",
   "execution_count": 60,
   "id": "81e2765f",
   "metadata": {},
   "outputs": [],
   "source": [
    "x_train, x_test, y_train, y_test = train_test_split(x, y, test_size = 0.21, random_state = 21)"
   ]
  },
  {
   "cell_type": "code",
   "execution_count": 61,
   "id": "4887cfa1",
   "metadata": {},
   "outputs": [
    {
     "data": {
      "text/plain": [
       "((7900, 20), (2100, 20), (5000, 20))"
      ]
     },
     "execution_count": 61,
     "metadata": {},
     "output_type": "execute_result"
    }
   ],
   "source": [
    "prep = Preproc()\n",
    "prep.fit_p(x_train)\n",
    "x_train = prep.transform_p(x_train)\n",
    "x_test = prep.transform_p(x_test)\n",
    "data_test = prep.transform_p(data_test)\n",
    "\n",
    "x_train.shape, x_test.shape, data_test.shape"
   ]
  },
  {
   "cell_type": "code",
   "execution_count": null,
   "id": "8a96dc53",
   "metadata": {},
   "outputs": [],
   "source": []
  },
  {
   "cell_type": "markdown",
   "id": "28d4d6e0",
   "metadata": {},
   "source": [
    "#### Приминение модели RandomForest для обучения"
   ]
  },
  {
   "cell_type": "code",
   "execution_count": 62,
   "id": "9375007b",
   "metadata": {},
   "outputs": [
    {
     "data": {
      "text/plain": [
       "RandomForestRegressor(n_estimators=200)"
      ]
     },
     "execution_count": 62,
     "metadata": {},
     "output_type": "execute_result"
    }
   ],
   "source": [
    "model = RandomForestRegressor(n_estimators=200)\n",
    "model.fit(x_train, y_train)"
   ]
  },
  {
   "cell_type": "markdown",
   "id": "930a990a",
   "metadata": {},
   "source": [
    "#### Проверка модели"
   ]
  },
  {
   "cell_type": "code",
   "execution_count": 63,
   "id": "3509d36c",
   "metadata": {},
   "outputs": [
    {
     "name": "stdout",
     "output_type": "stream",
     "text": [
      "Train R2:\t0.963\n",
      "Test R2:\t0.749\n"
     ]
    },
    {
     "data": {
      "image/png": "[encoded data removed]",
      "text/plain": [
       "<Figure size 1296x720 with 2 Axes>"
      ]
     },
     "metadata": {},
     "output_type": "display_data"
    }
   ],
   "source": [
    "train_pred = model.predict(x_train)\n",
    "test_pred = model.predict(x_test)\n",
    "evaluate_preds(y_train, train_pred, y_test, test_pred)"
   ]
  },
  {
   "cell_type": "code",
   "execution_count": 64,
   "id": "22d760f2",
   "metadata": {},
   "outputs": [
    {
     "data": {
      "text/plain": [
       "array([0.70276516, 0.72231955, 0.72114321])"
      ]
     },
     "execution_count": 64,
     "metadata": {},
     "output_type": "execute_result"
    }
   ],
   "source": [
    "cv_score = cross_val_score(model, x_train, y_train, scoring='r2', cv=KFold(n_splits=3, shuffle=True, random_state=21))\n",
    "cv_score"
   ]
  },
  {
   "cell_type": "code",
   "execution_count": 65,
   "id": "e0872e34",
   "metadata": {},
   "outputs": [
    {
     "data": {
      "text/plain": [
       "0.7154093082389802"
      ]
     },
     "execution_count": 65,
     "metadata": {},
     "output_type": "execute_result"
    }
   ],
   "source": [
    "cv_score.mean()"
   ]
  },
  {
   "cell_type": "code",
   "execution_count": 199,
   "id": "ea206be8",
   "metadata": {},
   "outputs": [
    {
     "data": {
      "text/plain": [
       "RandomForestRegressor(n_estimators=200)"
      ]
     },
     "execution_count": 199,
     "metadata": {},
     "output_type": "execute_result"
    }
   ],
   "source": [
    "model.fit(x, y)"
   ]
  },
  {
   "cell_type": "markdown",
   "id": "0ba76d54",
   "metadata": {},
   "source": [
    "#### Прогнозирование на тестовом датасете"
   ]
  },
  {
   "cell_type": "code",
   "execution_count": 66,
   "id": "120ce5f6",
   "metadata": {},
   "outputs": [
    {
     "data": {
      "text/html": [
       "<div>\n",
       "<style scoped>\n",
       "    .dataframe tbody tr th:only-of-type {\n",
       "        vertical-align: middle;\n",
       "    }\n",
       "\n",
       "    .dataframe tbody tr th {\n",
       "        vertical-align: top;\n",
       "    }\n",
       "\n",
       "    .dataframe thead th {\n",
       "        text-align: right;\n",
       "    }\n",
       "</style>\n",
       "<table border=\"1\" class=\"dataframe\">\n",
       "  <thead>\n",
       "    <tr style=\"text-align: right;\">\n",
       "      <th></th>\n",
       "      <th>Id</th>\n",
       "      <th>Price</th>\n",
       "    </tr>\n",
       "  </thead>\n",
       "  <tbody>\n",
       "    <tr>\n",
       "      <th>0</th>\n",
       "      <td>4567</td>\n",
       "      <td>200000.0</td>\n",
       "    </tr>\n",
       "    <tr>\n",
       "      <th>1</th>\n",
       "      <td>5925</td>\n",
       "      <td>200000.0</td>\n",
       "    </tr>\n",
       "    <tr>\n",
       "      <th>2</th>\n",
       "      <td>960</td>\n",
       "      <td>200000.0</td>\n",
       "    </tr>\n",
       "    <tr>\n",
       "      <th>3</th>\n",
       "      <td>3848</td>\n",
       "      <td>200000.0</td>\n",
       "    </tr>\n",
       "    <tr>\n",
       "      <th>4</th>\n",
       "      <td>746</td>\n",
       "      <td>200000.0</td>\n",
       "    </tr>\n",
       "  </tbody>\n",
       "</table>\n",
       "</div>"
      ],
      "text/plain": [
       "     Id     Price\n",
       "0  4567  200000.0\n",
       "1  5925  200000.0\n",
       "2   960  200000.0\n",
       "3  3848  200000.0\n",
       "4   746  200000.0"
      ]
     },
     "execution_count": 66,
     "metadata": {},
     "output_type": "execute_result"
    }
   ],
   "source": [
    "submit = pd.read_csv('sample_submission.csv')\n",
    "submit.head()"
   ]
  },
  {
   "cell_type": "code",
   "execution_count": null,
   "id": "e6b7b2d8",
   "metadata": {},
   "outputs": [],
   "source": []
  },
  {
   "cell_type": "code",
   "execution_count": 67,
   "id": "ac00a3ac",
   "metadata": {},
   "outputs": [
    {
     "data": {
      "text/plain": [
       "array([150616.81876166, 119689.85744969, 139599.62607345, ...,\n",
       "       144089.95975397, 191817.76817142, 252885.11021825])"
      ]
     },
     "execution_count": 67,
     "metadata": {},
     "output_type": "execute_result"
    }
   ],
   "source": [
    "pred = model.predict(data_test)\n",
    "pred"
   ]
  },
  {
   "cell_type": "code",
   "execution_count": 68,
   "id": "f43d005f",
   "metadata": {},
   "outputs": [
    {
     "data": {
      "text/html": [
       "<div>\n",
       "<style scoped>\n",
       "    .dataframe tbody tr th:only-of-type {\n",
       "        vertical-align: middle;\n",
       "    }\n",
       "\n",
       "    .dataframe tbody tr th {\n",
       "        vertical-align: top;\n",
       "    }\n",
       "\n",
       "    .dataframe thead th {\n",
       "        text-align: right;\n",
       "    }\n",
       "</style>\n",
       "<table border=\"1\" class=\"dataframe\">\n",
       "  <thead>\n",
       "    <tr style=\"text-align: right;\">\n",
       "      <th></th>\n",
       "      <th>Id</th>\n",
       "      <th>Price</th>\n",
       "    </tr>\n",
       "  </thead>\n",
       "  <tbody>\n",
       "    <tr>\n",
       "      <th>0</th>\n",
       "      <td>4567</td>\n",
       "      <td>150616.818762</td>\n",
       "    </tr>\n",
       "    <tr>\n",
       "      <th>1</th>\n",
       "      <td>5925</td>\n",
       "      <td>119689.857450</td>\n",
       "    </tr>\n",
       "    <tr>\n",
       "      <th>2</th>\n",
       "      <td>960</td>\n",
       "      <td>139599.626073</td>\n",
       "    </tr>\n",
       "    <tr>\n",
       "      <th>3</th>\n",
       "      <td>3848</td>\n",
       "      <td>125758.542062</td>\n",
       "    </tr>\n",
       "    <tr>\n",
       "      <th>4</th>\n",
       "      <td>746</td>\n",
       "      <td>227395.946085</td>\n",
       "    </tr>\n",
       "  </tbody>\n",
       "</table>\n",
       "</div>"
      ],
      "text/plain": [
       "     Id          Price\n",
       "0  4567  150616.818762\n",
       "1  5925  119689.857450\n",
       "2   960  139599.626073\n",
       "3  3848  125758.542062\n",
       "4   746  227395.946085"
      ]
     },
     "execution_count": 68,
     "metadata": {},
     "output_type": "execute_result"
    }
   ],
   "source": [
    "submit['Price'] = pred\n",
    "submit.head()"
   ]
  },
  {
   "cell_type": "code",
   "execution_count": 69,
   "id": "c6a93b87",
   "metadata": {},
   "outputs": [],
   "source": [
    "submit.to_csv('gb_cours_.csv', index=False)"
   ]
  },
  {
   "cell_type": "code",
   "execution_count": null,
   "id": "6ef9b3eb",
   "metadata": {},
   "outputs": [],
   "source": []
  }
 ],
 "metadata": {
  "kernelspec": {
   "display_name": "Python 3 (ipykernel)",
   "language": "python",
   "name": "python3"
  },
  "language_info": {
   "codemirror_mode": {
    "name": "ipython",
    "version": 3
   },
   "file_extension": ".py",
   "mimetype": "text/x-python",
   "name": "python",
   "nbconvert_exporter": "python",
   "pygments_lexer": "ipython3",
   "version": "3.9.12"
  }
 },
 "nbformat": 4,
 "nbformat_minor": 5
}
